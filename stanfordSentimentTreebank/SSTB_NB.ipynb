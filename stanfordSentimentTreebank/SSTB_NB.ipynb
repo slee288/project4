{
 "cells": [
  {
   "cell_type": "code",
   "execution_count": 1,
   "metadata": {},
   "outputs": [],
   "source": [
    "import numpy as np\n",
    "import pandas as pd\n",
    "import timeit"
   ]
  },
  {
   "cell_type": "code",
   "execution_count": 28,
   "metadata": {},
   "outputs": [
    {
     "data": {
      "text/html": [
       "<div>\n",
       "<style scoped>\n",
       "    .dataframe tbody tr th:only-of-type {\n",
       "        vertical-align: middle;\n",
       "    }\n",
       "\n",
       "    .dataframe tbody tr th {\n",
       "        vertical-align: top;\n",
       "    }\n",
       "\n",
       "    .dataframe thead th {\n",
       "        text-align: right;\n",
       "    }\n",
       "</style>\n",
       "<table border=\"1\" class=\"dataframe\">\n",
       "  <thead>\n",
       "    <tr style=\"text-align: right;\">\n",
       "      <th></th>\n",
       "      <th>Unnamed: 0</th>\n",
       "      <th>sentence_index</th>\n",
       "      <th>sentence</th>\n",
       "      <th>splitset_label</th>\n",
       "      <th>id</th>\n",
       "      <th>values</th>\n",
       "    </tr>\n",
       "  </thead>\n",
       "  <tbody>\n",
       "    <tr>\n",
       "      <td>0</td>\n",
       "      <td>0</td>\n",
       "      <td>1</td>\n",
       "      <td>The Rock is destined to be the 21st Century 's...</td>\n",
       "      <td>1</td>\n",
       "      <td>226166</td>\n",
       "      <td>0.69444</td>\n",
       "    </tr>\n",
       "    <tr>\n",
       "      <td>1</td>\n",
       "      <td>1</td>\n",
       "      <td>2</td>\n",
       "      <td>The gorgeously elaborate continuation of `` Th...</td>\n",
       "      <td>1</td>\n",
       "      <td>226300</td>\n",
       "      <td>0.83333</td>\n",
       "    </tr>\n",
       "    <tr>\n",
       "      <td>2</td>\n",
       "      <td>2</td>\n",
       "      <td>61</td>\n",
       "      <td>Singer\\/composer Bryan Adams contributes a sle...</td>\n",
       "      <td>1</td>\n",
       "      <td>225801</td>\n",
       "      <td>0.62500</td>\n",
       "    </tr>\n",
       "    <tr>\n",
       "      <td>3</td>\n",
       "      <td>3</td>\n",
       "      <td>62</td>\n",
       "      <td>You 'd think by now America would have had eno...</td>\n",
       "      <td>1</td>\n",
       "      <td>14646</td>\n",
       "      <td>0.50000</td>\n",
       "    </tr>\n",
       "    <tr>\n",
       "      <td>4</td>\n",
       "      <td>4</td>\n",
       "      <td>63</td>\n",
       "      <td>Yet the act is still charming here .</td>\n",
       "      <td>1</td>\n",
       "      <td>14644</td>\n",
       "      <td>0.72222</td>\n",
       "    </tr>\n",
       "    <tr>\n",
       "      <td>...</td>\n",
       "      <td>...</td>\n",
       "      <td>...</td>\n",
       "      <td>...</td>\n",
       "      <td>...</td>\n",
       "      <td>...</td>\n",
       "      <td>...</td>\n",
       "    </tr>\n",
       "    <tr>\n",
       "      <td>8539</td>\n",
       "      <td>8539</td>\n",
       "      <td>11851</td>\n",
       "      <td>A real snooze .</td>\n",
       "      <td>1</td>\n",
       "      <td>222071</td>\n",
       "      <td>0.11111</td>\n",
       "    </tr>\n",
       "    <tr>\n",
       "      <td>8540</td>\n",
       "      <td>8540</td>\n",
       "      <td>11852</td>\n",
       "      <td>No surprises .</td>\n",
       "      <td>1</td>\n",
       "      <td>225165</td>\n",
       "      <td>0.22222</td>\n",
       "    </tr>\n",
       "    <tr>\n",
       "      <td>8541</td>\n",
       "      <td>8541</td>\n",
       "      <td>11853</td>\n",
       "      <td>We 've seen the hippie-turned-yuppie plot befo...</td>\n",
       "      <td>1</td>\n",
       "      <td>226985</td>\n",
       "      <td>0.75000</td>\n",
       "    </tr>\n",
       "    <tr>\n",
       "      <td>8542</td>\n",
       "      <td>8542</td>\n",
       "      <td>11854</td>\n",
       "      <td>Her fans walked out muttering words like `` ho...</td>\n",
       "      <td>1</td>\n",
       "      <td>223632</td>\n",
       "      <td>0.13889</td>\n",
       "    </tr>\n",
       "    <tr>\n",
       "      <td>8543</td>\n",
       "      <td>8543</td>\n",
       "      <td>11855</td>\n",
       "      <td>In this case zero .</td>\n",
       "      <td>1</td>\n",
       "      <td>224044</td>\n",
       "      <td>0.34722</td>\n",
       "    </tr>\n",
       "  </tbody>\n",
       "</table>\n",
       "<p>8544 rows × 6 columns</p>\n",
       "</div>"
      ],
      "text/plain": [
       "      Unnamed: 0  sentence_index  \\\n",
       "0              0               1   \n",
       "1              1               2   \n",
       "2              2              61   \n",
       "3              3              62   \n",
       "4              4              63   \n",
       "...          ...             ...   \n",
       "8539        8539           11851   \n",
       "8540        8540           11852   \n",
       "8541        8541           11853   \n",
       "8542        8542           11854   \n",
       "8543        8543           11855   \n",
       "\n",
       "                                               sentence  splitset_label  \\\n",
       "0     The Rock is destined to be the 21st Century 's...               1   \n",
       "1     The gorgeously elaborate continuation of `` Th...               1   \n",
       "2     Singer\\/composer Bryan Adams contributes a sle...               1   \n",
       "3     You 'd think by now America would have had eno...               1   \n",
       "4                  Yet the act is still charming here .               1   \n",
       "...                                                 ...             ...   \n",
       "8539                                    A real snooze .               1   \n",
       "8540                                     No surprises .               1   \n",
       "8541  We 've seen the hippie-turned-yuppie plot befo...               1   \n",
       "8542  Her fans walked out muttering words like `` ho...               1   \n",
       "8543                                In this case zero .               1   \n",
       "\n",
       "          id   values  \n",
       "0     226166  0.69444  \n",
       "1     226300  0.83333  \n",
       "2     225801  0.62500  \n",
       "3      14646  0.50000  \n",
       "4      14644  0.72222  \n",
       "...      ...      ...  \n",
       "8539  222071  0.11111  \n",
       "8540  225165  0.22222  \n",
       "8541  226985  0.75000  \n",
       "8542  223632  0.13889  \n",
       "8543  224044  0.34722  \n",
       "\n",
       "[8544 rows x 6 columns]"
      ]
     },
     "execution_count": 28,
     "metadata": {},
     "output_type": "execute_result"
    }
   ],
   "source": [
    "df_train = pd.read_csv(\"SSTB_train.csv\")\n",
    "df_train"
   ]
  },
  {
   "cell_type": "code",
   "execution_count": 29,
   "metadata": {},
   "outputs": [
    {
     "data": {
      "text/html": [
       "<div>\n",
       "<style scoped>\n",
       "    .dataframe tbody tr th:only-of-type {\n",
       "        vertical-align: middle;\n",
       "    }\n",
       "\n",
       "    .dataframe tbody tr th {\n",
       "        vertical-align: top;\n",
       "    }\n",
       "\n",
       "    .dataframe thead th {\n",
       "        text-align: right;\n",
       "    }\n",
       "</style>\n",
       "<table border=\"1\" class=\"dataframe\">\n",
       "  <thead>\n",
       "    <tr style=\"text-align: right;\">\n",
       "      <th></th>\n",
       "      <th>Unnamed: 0</th>\n",
       "      <th>sentence_index</th>\n",
       "      <th>sentence</th>\n",
       "      <th>splitset_label</th>\n",
       "      <th>id</th>\n",
       "      <th>values</th>\n",
       "    </tr>\n",
       "  </thead>\n",
       "  <tbody>\n",
       "    <tr>\n",
       "      <td>0</td>\n",
       "      <td>0</td>\n",
       "      <td>3</td>\n",
       "      <td>Effective but too-tepid biopic</td>\n",
       "      <td>2</td>\n",
       "      <td>13995</td>\n",
       "      <td>0.513890</td>\n",
       "    </tr>\n",
       "    <tr>\n",
       "      <td>1</td>\n",
       "      <td>1</td>\n",
       "      <td>4</td>\n",
       "      <td>If you sometimes like to go to the movies to h...</td>\n",
       "      <td>2</td>\n",
       "      <td>14123</td>\n",
       "      <td>0.736110</td>\n",
       "    </tr>\n",
       "    <tr>\n",
       "      <td>2</td>\n",
       "      <td>2</td>\n",
       "      <td>5</td>\n",
       "      <td>Emerges as something rare , an issue movie tha...</td>\n",
       "      <td>2</td>\n",
       "      <td>13999</td>\n",
       "      <td>0.861110</td>\n",
       "    </tr>\n",
       "    <tr>\n",
       "      <td>3</td>\n",
       "      <td>3</td>\n",
       "      <td>6</td>\n",
       "      <td>The film provides some great insight into the ...</td>\n",
       "      <td>2</td>\n",
       "      <td>14498</td>\n",
       "      <td>0.597220</td>\n",
       "    </tr>\n",
       "    <tr>\n",
       "      <td>4</td>\n",
       "      <td>4</td>\n",
       "      <td>7</td>\n",
       "      <td>Offers that rare combination of entertainment ...</td>\n",
       "      <td>2</td>\n",
       "      <td>14351</td>\n",
       "      <td>0.833330</td>\n",
       "    </tr>\n",
       "    <tr>\n",
       "      <td>...</td>\n",
       "      <td>...</td>\n",
       "      <td>...</td>\n",
       "      <td>...</td>\n",
       "      <td>...</td>\n",
       "      <td>...</td>\n",
       "      <td>...</td>\n",
       "    </tr>\n",
       "    <tr>\n",
       "      <td>2205</td>\n",
       "      <td>2205</td>\n",
       "      <td>11621</td>\n",
       "      <td>An imaginative comedy\\/thriller .</td>\n",
       "      <td>2</td>\n",
       "      <td>13851</td>\n",
       "      <td>0.777780</td>\n",
       "    </tr>\n",
       "    <tr>\n",
       "      <td>2206</td>\n",
       "      <td>2206</td>\n",
       "      <td>11623</td>\n",
       "      <td>( A ) rare , beautiful film .</td>\n",
       "      <td>2</td>\n",
       "      <td>18182</td>\n",
       "      <td>0.916670</td>\n",
       "    </tr>\n",
       "    <tr>\n",
       "      <td>2207</td>\n",
       "      <td>2207</td>\n",
       "      <td>11626</td>\n",
       "      <td>( An ) hilarious romantic comedy .</td>\n",
       "      <td>2</td>\n",
       "      <td>23211</td>\n",
       "      <td>0.888890</td>\n",
       "    </tr>\n",
       "    <tr>\n",
       "      <td>2208</td>\n",
       "      <td>2208</td>\n",
       "      <td>11628</td>\n",
       "      <td>Never ( sinks ) into exploitation .</td>\n",
       "      <td>2</td>\n",
       "      <td>26177</td>\n",
       "      <td>0.625000</td>\n",
       "    </tr>\n",
       "    <tr>\n",
       "      <td>2209</td>\n",
       "      <td>2209</td>\n",
       "      <td>11798</td>\n",
       "      <td>( U ) nrelentingly stupid .</td>\n",
       "      <td>2</td>\n",
       "      <td>141831</td>\n",
       "      <td>0.069444</td>\n",
       "    </tr>\n",
       "  </tbody>\n",
       "</table>\n",
       "<p>2210 rows × 6 columns</p>\n",
       "</div>"
      ],
      "text/plain": [
       "      Unnamed: 0  sentence_index  \\\n",
       "0              0               3   \n",
       "1              1               4   \n",
       "2              2               5   \n",
       "3              3               6   \n",
       "4              4               7   \n",
       "...          ...             ...   \n",
       "2205        2205           11621   \n",
       "2206        2206           11623   \n",
       "2207        2207           11626   \n",
       "2208        2208           11628   \n",
       "2209        2209           11798   \n",
       "\n",
       "                                               sentence  splitset_label  \\\n",
       "0                        Effective but too-tepid biopic               2   \n",
       "1     If you sometimes like to go to the movies to h...               2   \n",
       "2     Emerges as something rare , an issue movie tha...               2   \n",
       "3     The film provides some great insight into the ...               2   \n",
       "4     Offers that rare combination of entertainment ...               2   \n",
       "...                                                 ...             ...   \n",
       "2205                  An imaginative comedy\\/thriller .               2   \n",
       "2206                      ( A ) rare , beautiful film .               2   \n",
       "2207                 ( An ) hilarious romantic comedy .               2   \n",
       "2208                Never ( sinks ) into exploitation .               2   \n",
       "2209                        ( U ) nrelentingly stupid .               2   \n",
       "\n",
       "          id    values  \n",
       "0      13995  0.513890  \n",
       "1      14123  0.736110  \n",
       "2      13999  0.861110  \n",
       "3      14498  0.597220  \n",
       "4      14351  0.833330  \n",
       "...      ...       ...  \n",
       "2205   13851  0.777780  \n",
       "2206   18182  0.916670  \n",
       "2207   23211  0.888890  \n",
       "2208   26177  0.625000  \n",
       "2209  141831  0.069444  \n",
       "\n",
       "[2210 rows x 6 columns]"
      ]
     },
     "execution_count": 29,
     "metadata": {},
     "output_type": "execute_result"
    }
   ],
   "source": [
    "df_test = pd.read_csv(\"SSTB_test.csv\")\n",
    "df_test"
   ]
  },
  {
   "cell_type": "code",
   "execution_count": 30,
   "metadata": {},
   "outputs": [],
   "source": [
    "X_train = df_train[\"sentence\"]\n",
    "y_train = df_train[\"values\"]\n",
    "\n",
    "X_test = df_test[\"sentence\"]\n",
    "y_test = df_test[\"values\"]"
   ]
  },
  {
   "cell_type": "code",
   "execution_count": 31,
   "metadata": {},
   "outputs": [],
   "source": [
    "# function for converting the y values to positive or negative values\n",
    "\n",
    "def convert_to_pos_neg(y):\n",
    "    for i in range(len(y)):\n",
    "        if y[i] > 0.5:\n",
    "            y[i] = 1\n",
    "        else:\n",
    "            y[i] = 0\n",
    "    return y"
   ]
  },
  {
   "cell_type": "code",
   "execution_count": 45,
   "metadata": {},
   "outputs": [],
   "source": [
    "def convert_to_fine_grain(y):\n",
    "    for i in range(len(y)):\n",
    "        if y[i] >= 0 and y[i] <= 0.2:\n",
    "            y[i] = 0\n",
    "        elif y[i] > 0.2 and y[i] < 0.4:\n",
    "            y[i] = 1\n",
    "        elif y[i] > 0.4 and y[i] < 0.6:\n",
    "            y[i] = 2\n",
    "        elif y[i] > 0.6 and y[i] < 0.8:\n",
    "            y[i] = 3\n",
    "        elif y[i] > 0.8 and y[i] <= 1.0:\n",
    "            y[i] = 4\n",
    "    return y"
   ]
  },
  {
   "cell_type": "code",
   "execution_count": null,
   "metadata": {},
   "outputs": [],
   "source": [
    "#====================Convert y into positive / negative=================="
   ]
  },
  {
   "cell_type": "code",
   "execution_count": 46,
   "metadata": {},
   "outputs": [
    {
     "data": {
      "text/plain": [
       "array([1., 1., 1., ..., 1., 0., 0.])"
      ]
     },
     "execution_count": 46,
     "metadata": {},
     "output_type": "execute_result"
    }
   ],
   "source": [
    "y_train_posneg = np.copy(y_train)  # make sure to use the copied value in order to prevent from modifying the original y values\n",
    "y_train_posneg = convert_to_pos_neg(y_train_posneg)\n",
    "y_train_posneg"
   ]
  },
  {
   "cell_type": "code",
   "execution_count": 47,
   "metadata": {},
   "outputs": [
    {
     "data": {
      "text/plain": [
       "array([1., 1., 1., ..., 1., 1., 0.])"
      ]
     },
     "execution_count": 47,
     "metadata": {},
     "output_type": "execute_result"
    }
   ],
   "source": [
    "y_test_posneg = np.copy(y_test)\n",
    "y_test_posneg = convert_to_pos_neg(y_test_posneg)\n",
    "y_test_posneg"
   ]
  },
  {
   "cell_type": "code",
   "execution_count": 48,
   "metadata": {},
   "outputs": [],
   "source": [
    "#====================================================================="
   ]
  },
  {
   "cell_type": "code",
   "execution_count": 49,
   "metadata": {},
   "outputs": [],
   "source": [
    "#======================Convert y into fine grain values========================"
   ]
  },
  {
   "cell_type": "code",
   "execution_count": 50,
   "metadata": {},
   "outputs": [
    {
     "data": {
      "text/plain": [
       "array([3., 4., 3., ..., 3., 0., 1.])"
      ]
     },
     "execution_count": 50,
     "metadata": {},
     "output_type": "execute_result"
    }
   ],
   "source": [
    "y_train_finegrain = np.copy(y_train)\n",
    "y_train_finegrain = convert_to_fine_grain(y_train_finegrain)\n",
    "y_train_finegrain"
   ]
  },
  {
   "cell_type": "code",
   "execution_count": 51,
   "metadata": {},
   "outputs": [
    {
     "data": {
      "text/plain": [
       "array([2., 3., 4., ..., 4., 3., 0.])"
      ]
     },
     "execution_count": 51,
     "metadata": {},
     "output_type": "execute_result"
    }
   ],
   "source": [
    "y_test_finegrain = np.copy(y_test)\n",
    "y_test_finegrain = convert_to_fine_grain(y_test_finegrain)\n",
    "y_test_finegrain"
   ]
  },
  {
   "cell_type": "code",
   "execution_count": 84,
   "metadata": {},
   "outputs": [],
   "source": [
    "#==============================================================="
   ]
  },
  {
   "cell_type": "code",
   "execution_count": 52,
   "metadata": {},
   "outputs": [],
   "source": [
    "from sklearn.feature_extraction.text import CountVectorizer\n",
    "from sklearn.feature_extraction.text import TfidfVectorizer\n",
    "\n",
    "from sklearn.naive_bayes import MultinomialNB\n",
    "from sklearn import model_selection\n",
    "from sklearn.metrics import accuracy_score"
   ]
  },
  {
   "cell_type": "code",
   "execution_count": 54,
   "metadata": {},
   "outputs": [],
   "source": [
    "cvec = CountVectorizer()\n",
    "tfidf = TfidfVectorizer()\n",
    "\n",
    "X_train_cvec = cvec.fit_transform(X_train, y_train)\n",
    "X_train_tf = tfidf.fit_transform(X_train, y_train)\n",
    "\n",
    "X_test_cvec = cvec.transform(X_test)\n",
    "X_test_tf = tfidf.transform(X_test)"
   ]
  },
  {
   "cell_type": "code",
   "execution_count": 55,
   "metadata": {},
   "outputs": [
    {
     "name": "stdout",
     "output_type": "stream",
     "text": [
      "Cross validation with countvectorizer:  0.7456616918558999\n",
      "Cross validation with TfidfVectorizer:  0.751045642095916\n",
      "Time Execution: 0.1225414880000244\n"
     ]
    }
   ],
   "source": [
    "#=====================Generic 5-fold Cross Validation Score On Classifying Positive/Negative==================\n",
    "# This cross validation will only operate on the training set\n",
    "# Start the Timer\n",
    "start = timeit.default_timer()\n",
    "\n",
    "mnb = MultinomialNB()\n",
    "results_cv = model_selection.cross_val_score(mnb, X_train_cvec, y_train_posneg, cv = 5)\n",
    "print(\"Cross validation with countvectorizer: \", results_cv.mean())\n",
    "\n",
    "results_tf = model_selection.cross_val_score(mnb, X_train_tf, y_train_posneg, cv = 5)\n",
    "print(\"Cross validation with TfidfVectorizer: \", results_tf.mean())\n",
    "# mnb.fit(X_train_tf, y_train)\n",
    "# y_pred = mnb.predict(X_test_tf)\n",
    "\n",
    "# print(accuracy_score(y_pred, y_test))\n",
    "\n",
    "# Timer stops\n",
    "stop = timeit.default_timer()\n",
    "print(\"Time Execution: {}\".format(stop - start))"
   ]
  },
  {
   "cell_type": "code",
   "execution_count": 56,
   "metadata": {},
   "outputs": [
    {
     "name": "stdout",
     "output_type": "stream",
     "text": [
      "Cross validation with countvectorizer:  0.3959462336233364\n",
      "Cross validation with TfidfVectorizer:  0.39465968487991576\n",
      "Time Execution: 0.12854977300003156\n"
     ]
    }
   ],
   "source": [
    "#=====================Generic 5-fold Cross Validation Score on Classifying Fine Grain==================\n",
    "# This cross validation will only operate on the training set\n",
    "# Start the Timer\n",
    "start = timeit.default_timer()\n",
    "\n",
    "mnb = MultinomialNB()\n",
    "results_cv = model_selection.cross_val_score(mnb, X_train_cvec, y_train_finegrain, cv = 5)\n",
    "print(\"Cross validation with countvectorizer: \", results_cv.mean())\n",
    "\n",
    "results_tf = model_selection.cross_val_score(mnb, X_train_tf, y_train_finegrain, cv = 5)\n",
    "print(\"Cross validation with TfidfVectorizer: \", results_tf.mean())\n",
    "# mnb.fit(X_train_tf, y_train)\n",
    "# y_pred = mnb.predict(X_test_tf)\n",
    "\n",
    "# print(accuracy_score(y_pred, y_test))\n",
    "\n",
    "# Timer stops\n",
    "stop = timeit.default_timer()\n",
    "print(\"Time Execution: {}\".format(stop - start))"
   ]
  },
  {
   "cell_type": "code",
   "execution_count": null,
   "metadata": {},
   "outputs": [],
   "source": []
  },
  {
   "cell_type": "code",
   "execution_count": null,
   "metadata": {},
   "outputs": [],
   "source": [
    "#===========================Positive/Negative Classification========================="
   ]
  },
  {
   "cell_type": "code",
   "execution_count": 57,
   "metadata": {},
   "outputs": [],
   "source": [
    "#============================Finding Optimal N_gram============================="
   ]
  },
  {
   "cell_type": "code",
   "execution_count": 63,
   "metadata": {},
   "outputs": [],
   "source": [
    "# function for evaluating the accuracy of a given classifier and vectorizer\n",
    "def nfeature_accuracy_checker(X_train, y_train, X_test, y_test, vectorizer=None, n_features=None, stop_words=None, ngram_range=(1, 1), classifier=None):\n",
    "    result = []\n",
    "    print (classifier)\n",
    "    print (\"\\n\")\n",
    "    for n in n_features:\n",
    "        vectorizer.set_params(stop_words=stop_words, max_features=n, ngram_range=ngram_range)\n",
    "        checker_pipeline = Pipeline([\n",
    "            ('vectorizer', vectorizer),\n",
    "            ('classifier', classifier)\n",
    "        ])\n",
    "        t0 = time()\n",
    "        sentiment_fit = checker_pipeline.fit(X_train, y_train)\n",
    "        y_pred = sentiment_fit.predict(X_test)\n",
    "        train_test_time = time() - t0\n",
    "        accuracy = accuracy_score(y_pred, y_test)\n",
    "        print(\"accuracy with\", n, \"features:\", accuracy)\n",
    "    print(\"\\n\")"
   ]
  },
  {
   "cell_type": "code",
   "execution_count": 64,
   "metadata": {},
   "outputs": [],
   "source": [
    "from sklearn.pipeline import Pipeline\n",
    "from time import time"
   ]
  },
  {
   "cell_type": "code",
   "execution_count": 65,
   "metadata": {},
   "outputs": [],
   "source": [
    "cvec = CountVectorizer()\n",
    "tfidf = TfidfVectorizer()\n",
    "mnb = MultinomialNB()"
   ]
  },
  {
   "cell_type": "code",
   "execution_count": 66,
   "metadata": {},
   "outputs": [],
   "source": [
    "stop_word_extractor = [None, \"english\"]\n",
    "vectorizer = [cvec, tfidf]"
   ]
  },
  {
   "cell_type": "code",
   "execution_count": 67,
   "metadata": {},
   "outputs": [
    {
     "name": "stdout",
     "output_type": "stream",
     "text": [
      "==============================INCLUDING STOP WORDS============================\n",
      "\t=================COUNTVECTORIZER===============\n",
      "MultinomialNB(alpha=1.0, class_prior=None, fit_prior=True)\n",
      "\n",
      "\n",
      "accuracy with 10000 features: 0.7701357466063349\n",
      "accuracy with 20000 features: 0.7737556561085973\n",
      "accuracy with 30000 features: 0.7737556561085973\n",
      "accuracy with 40000 features: 0.7737556561085973\n",
      "accuracy with 50000 features: 0.7737556561085973\n",
      "\n",
      "\n",
      "\t=================TFIDF=============\n",
      "MultinomialNB(alpha=1.0, class_prior=None, fit_prior=True)\n",
      "\n",
      "\n",
      "accuracy with 10000 features: 0.7755656108597285\n",
      "accuracy with 20000 features: 0.7782805429864253\n",
      "accuracy with 30000 features: 0.7782805429864253\n",
      "accuracy with 40000 features: 0.7782805429864253\n",
      "accuracy with 50000 features: 0.7782805429864253\n",
      "\n",
      "\n",
      "==============================NOT INCLUDING STOP WORDS============================\n",
      "\t=================COUNTVECTORIZER===============\n",
      "MultinomialNB(alpha=1.0, class_prior=None, fit_prior=True)\n",
      "\n",
      "\n",
      "accuracy with 10000 features: 0.753393665158371\n",
      "accuracy with 20000 features: 0.7619909502262443\n",
      "accuracy with 30000 features: 0.7619909502262443\n",
      "accuracy with 40000 features: 0.7619909502262443\n",
      "accuracy with 50000 features: 0.7619909502262443\n",
      "\n",
      "\n",
      "\t=================TFIDF=============\n",
      "MultinomialNB(alpha=1.0, class_prior=None, fit_prior=True)\n",
      "\n",
      "\n",
      "accuracy with 10000 features: 0.7579185520361991\n",
      "accuracy with 20000 features: 0.7651583710407239\n",
      "accuracy with 30000 features: 0.7651583710407239\n",
      "accuracy with 40000 features: 0.7651583710407239\n",
      "accuracy with 50000 features: 0.7651583710407239\n",
      "\n",
      "\n"
     ]
    }
   ],
   "source": [
    "n_features = np.arange(10000,50001,10000)\n",
    "\n",
    "# unigram case \n",
    "for i in range(len(stop_word_extractor)):\n",
    "    if i == 0:\n",
    "        print(\"==============================INCLUDING STOP WORDS============================\")\n",
    "    else:\n",
    "        print(\"==============================NOT INCLUDING STOP WORDS============================\")\n",
    "    for j in range(len(vectorizer)):\n",
    "        if j == 0:\n",
    "            print(\"\\t=================COUNTVECTORIZER===============\")\n",
    "        else:\n",
    "            print(\"\\t=================TFIDF=============\")\n",
    "        feature_result_unigram = nfeature_accuracy_checker(X_train, y_train_posneg, X_test, y_test_posneg,\n",
    "                                                                                   vectorizer=vectorizer[j], n_features=n_features, stop_words=stop_word_extractor[i], classifier=mnb)"
   ]
  },
  {
   "cell_type": "code",
   "execution_count": 69,
   "metadata": {},
   "outputs": [
    {
     "name": "stdout",
     "output_type": "stream",
     "text": [
      "==============================INCLUDING STOP WORDS============================\n",
      "\t=================COUNTVECTORIZER===============\n",
      "MultinomialNB(alpha=1.0, class_prior=None, fit_prior=True)\n",
      "\n",
      "\n",
      "accuracy with 30000 features: 0.7760180995475113\n",
      "accuracy with 40000 features: 0.7755656108597285\n",
      "accuracy with 50000 features: 0.7760180995475113\n",
      "accuracy with 60000 features: 0.7773755656108597\n",
      "accuracy with 70000 features: 0.7782805429864253\n",
      "accuracy with 80000 features: 0.7782805429864253\n",
      "accuracy with 90000 features: 0.781447963800905\n",
      "accuracy with 100000 features: 0.7823529411764706\n",
      "accuracy with 110000 features: 0.7823529411764706\n",
      "accuracy with 120000 features: 0.7823529411764706\n",
      "accuracy with 130000 features: 0.7823529411764706\n",
      "\n",
      "\n",
      "\t=================TFIDF=============\n",
      "MultinomialNB(alpha=1.0, class_prior=None, fit_prior=True)\n",
      "\n",
      "\n",
      "accuracy with 30000 features: 0.7778280542986425\n",
      "accuracy with 40000 features: 0.7841628959276018\n",
      "accuracy with 50000 features: 0.781447963800905\n",
      "accuracy with 60000 features: 0.781447963800905\n",
      "accuracy with 70000 features: 0.7809954751131222\n",
      "accuracy with 80000 features: 0.7809954751131222\n",
      "accuracy with 90000 features: 0.7800904977375566\n",
      "accuracy with 100000 features: 0.7809954751131222\n",
      "accuracy with 110000 features: 0.7809954751131222\n",
      "accuracy with 120000 features: 0.7809954751131222\n",
      "accuracy with 130000 features: 0.7809954751131222\n",
      "\n",
      "\n",
      "==============================NOT INCLUDING STOP WORDS============================\n",
      "\t=================COUNTVECTORIZER===============\n",
      "MultinomialNB(alpha=1.0, class_prior=None, fit_prior=True)\n",
      "\n",
      "\n",
      "accuracy with 30000 features: 0.7479638009049774\n",
      "accuracy with 40000 features: 0.7506787330316742\n",
      "accuracy with 50000 features: 0.7529411764705882\n",
      "accuracy with 60000 features: 0.7552036199095022\n",
      "accuracy with 70000 features: 0.7524886877828054\n",
      "accuracy with 80000 features: 0.7547511312217194\n",
      "accuracy with 90000 features: 0.7547511312217194\n",
      "accuracy with 100000 features: 0.7547511312217194\n",
      "accuracy with 110000 features: 0.7547511312217194\n",
      "accuracy with 120000 features: 0.7547511312217194\n",
      "accuracy with 130000 features: 0.7547511312217194\n",
      "\n",
      "\n",
      "\t=================TFIDF=============\n",
      "MultinomialNB(alpha=1.0, class_prior=None, fit_prior=True)\n",
      "\n",
      "\n",
      "accuracy with 30000 features: 0.753393665158371\n",
      "accuracy with 40000 features: 0.7524886877828054\n",
      "accuracy with 50000 features: 0.753393665158371\n",
      "accuracy with 60000 features: 0.7552036199095022\n",
      "accuracy with 70000 features: 0.755656108597285\n",
      "accuracy with 80000 features: 0.7570135746606335\n",
      "accuracy with 90000 features: 0.7570135746606335\n",
      "accuracy with 100000 features: 0.7570135746606335\n",
      "accuracy with 110000 features: 0.7570135746606335\n",
      "accuracy with 120000 features: 0.7570135746606335\n",
      "accuracy with 130000 features: 0.7570135746606335\n",
      "\n",
      "\n"
     ]
    }
   ],
   "source": [
    "# unigram + bigram case \n",
    "# in here, we modify the number of features from the range 30000 to 130000, since \n",
    "# much more features will be created\n",
    "\n",
    "n_features = np.arange(30000,130001,10000)\n",
    "\n",
    "for i in range(len(stop_word_extractor)):\n",
    "    if i == 0:\n",
    "        print(\"==============================INCLUDING STOP WORDS============================\")\n",
    "    else:\n",
    "        print(\"==============================NOT INCLUDING STOP WORDS============================\")\n",
    "    for j in range(len(vectorizer)):\n",
    "        if j == 0:\n",
    "            print(\"\\t=================COUNTVECTORIZER===============\")\n",
    "        else:\n",
    "            print(\"\\t=================TFIDF=============\")\n",
    "        feature_result_unigram = nfeature_accuracy_checker(X_train, y_train_posneg, X_test, y_test_posneg,\n",
    "                                                                vectorizer=vectorizer[j], n_features=n_features, stop_words=stop_word_extractor[i], ngram_range = (1, 2), classifier=mnb)"
   ]
  },
  {
   "cell_type": "code",
   "execution_count": 70,
   "metadata": {},
   "outputs": [
    {
     "name": "stdout",
     "output_type": "stream",
     "text": [
      "==============================INCLUDING STOP WORDS============================\n",
      "\t=================COUNTVECTORIZER===============\n",
      "MultinomialNB(alpha=1.0, class_prior=None, fit_prior=True)\n",
      "\n",
      "\n",
      "accuracy with 60000 features: 0.7746606334841629\n",
      "accuracy with 70000 features: 0.7737556561085973\n",
      "accuracy with 80000 features: 0.7760180995475113\n",
      "accuracy with 90000 features: 0.7723981900452489\n",
      "accuracy with 100000 features: 0.7714932126696833\n",
      "accuracy with 110000 features: 0.7733031674208145\n",
      "accuracy with 120000 features: 0.7719457013574661\n",
      "accuracy with 130000 features: 0.7719457013574661\n",
      "accuracy with 140000 features: 0.7737556561085973\n",
      "accuracy with 150000 features: 0.7733031674208145\n",
      "accuracy with 160000 features: 0.7760180995475113\n",
      "\n",
      "\n",
      "\t=================TFIDF=============\n",
      "MultinomialNB(alpha=1.0, class_prior=None, fit_prior=True)\n",
      "\n",
      "\n",
      "accuracy with 60000 features: 0.7782805429864253\n",
      "accuracy with 70000 features: 0.7746606334841629\n",
      "accuracy with 80000 features: 0.7778280542986425\n",
      "accuracy with 90000 features: 0.7773755656108597\n",
      "accuracy with 100000 features: 0.7755656108597285\n",
      "accuracy with 110000 features: 0.7755656108597285\n",
      "accuracy with 120000 features: 0.7742081447963801\n",
      "accuracy with 130000 features: 0.7746606334841629\n",
      "accuracy with 140000 features: 0.7755656108597285\n",
      "accuracy with 150000 features: 0.7764705882352941\n",
      "accuracy with 160000 features: 0.7773755656108597\n",
      "\n",
      "\n",
      "==============================NOT INCLUDING STOP WORDS============================\n",
      "\t=================COUNTVECTORIZER===============\n",
      "MultinomialNB(alpha=1.0, class_prior=None, fit_prior=True)\n",
      "\n",
      "\n",
      "accuracy with 60000 features: 0.7520361990950226\n",
      "accuracy with 70000 features: 0.7524886877828054\n",
      "accuracy with 80000 features: 0.7506787330316742\n",
      "accuracy with 90000 features: 0.7524886877828054\n",
      "accuracy with 100000 features: 0.753393665158371\n",
      "accuracy with 110000 features: 0.7538461538461538\n",
      "accuracy with 120000 features: 0.753393665158371\n",
      "accuracy with 130000 features: 0.7520361990950226\n",
      "accuracy with 140000 features: 0.7529411764705882\n",
      "accuracy with 150000 features: 0.7529411764705882\n",
      "accuracy with 160000 features: 0.7529411764705882\n",
      "\n",
      "\n",
      "\t=================TFIDF=============\n",
      "MultinomialNB(alpha=1.0, class_prior=None, fit_prior=True)\n",
      "\n",
      "\n",
      "accuracy with 60000 features: 0.7529411764705882\n",
      "accuracy with 70000 features: 0.7529411764705882\n",
      "accuracy with 80000 features: 0.7502262443438914\n",
      "accuracy with 90000 features: 0.753393665158371\n",
      "accuracy with 100000 features: 0.7547511312217194\n",
      "accuracy with 110000 features: 0.7542986425339366\n",
      "accuracy with 120000 features: 0.7561085972850679\n",
      "accuracy with 130000 features: 0.7515837104072398\n",
      "accuracy with 140000 features: 0.7524886877828054\n",
      "accuracy with 150000 features: 0.7524886877828054\n",
      "accuracy with 160000 features: 0.7524886877828054\n",
      "\n",
      "\n"
     ]
    }
   ],
   "source": [
    "# unigram + bigram + trigram case\n",
    "# We furthur extent the number of features to the range of 120000\n",
    "\n",
    "n_features = np.arange(60000,160001,10000)\n",
    "\n",
    "for i in range(len(stop_word_extractor)):\n",
    "    if i == 0:\n",
    "        print(\"==============================INCLUDING STOP WORDS============================\")\n",
    "    else:\n",
    "        print(\"==============================NOT INCLUDING STOP WORDS============================\")\n",
    "    for j in range(len(vectorizer)):\n",
    "        if j == 0:\n",
    "            print(\"\\t=================COUNTVECTORIZER===============\")\n",
    "        else:\n",
    "            print(\"\\t=================TFIDF=============\")\n",
    "        feature_result_unigram = nfeature_accuracy_checker(X_train, y_train_posneg, X_test, y_test_posneg,\n",
    "                                                                vectorizer=vectorizer[j], n_features=n_features, stop_words=stop_word_extractor[i], ngram_range = (1, 3), classifier=mnb)"
   ]
  },
  {
   "cell_type": "code",
   "execution_count": 71,
   "metadata": {},
   "outputs": [],
   "source": [
    "# So far, the bigram case with CountVectorizer 70000 features has the best result"
   ]
  },
  {
   "cell_type": "code",
   "execution_count": 72,
   "metadata": {},
   "outputs": [],
   "source": [
    "mnbGV = MultinomialNB()\n",
    "\n",
    "\n",
    "cvecGV = CountVectorizer(ngram_range = (1, 2), max_features = 70000)\n",
    "# tvecGV = TfidfVectorizer(ngram_range = (1, 2), max_features = 100000, stop_words = \"english\")\n",
    "# tvecGV = TfidfVectorizer(ngram_range = (1, 2), max_features = 100000, analyzer = lemm_analyzer)\n",
    "X_cvec = cvecGV.fit_transform(X_train)"
   ]
  },
  {
   "cell_type": "code",
   "execution_count": 98,
   "metadata": {},
   "outputs": [
    {
     "name": "stdout",
     "output_type": "stream",
     "text": [
      "scores: [0.75632022 0.75784176 0.75772472 0.75760768 0.75632022]\n",
      "scores_std [0.03872693 0.03740403 0.03728401 0.03769677 0.03742853]\n",
      "{'alpha': 1.7}\n",
      "Time Execution: 0.3508574940001381\n"
     ]
    }
   ],
   "source": [
    "#-----------------------------GRID SEARCH CROSS VALIDATION------------------------------\n",
    "from sklearn.model_selection import GridSearchCV\n",
    "\n",
    "# Timer begins\n",
    "start = timeit.default_timer()\n",
    "\n",
    "tuned_parameters = [{'alpha' : [1.5, 1.7, 1.75, 1.8, 2.0]}]\n",
    "n_folds = 5\n",
    "\n",
    "grid_search = GridSearchCV(estimator = mnb, param_grid = tuned_parameters, cv = n_folds, refit = False, n_jobs = -1)\n",
    "\n",
    "grid_search.fit(X_cvec, y_train_posneg)\n",
    "\n",
    "scores = grid_search.cv_results_['mean_test_score']\n",
    "scores_std = grid_search.cv_results_['std_test_score']\n",
    "print('scores:',scores)\n",
    "print('scores_std',scores_std)\n",
    "\n",
    "# Optimal hyperparameter\n",
    "bestAlpha = grid_search.best_params_['alpha']\n",
    "print(grid_search.best_params_)\n",
    "\n",
    "# Timer stops\n",
    "stop = timeit.default_timer()\n",
    "print(\"Time Execution: {}\".format(stop - start))\n",
    "# #-----------------------------END OF GRID SEARCH-----------------------------------------"
   ]
  },
  {
   "cell_type": "code",
   "execution_count": 110,
   "metadata": {},
   "outputs": [],
   "source": [
    "def hyper_parameter_tuning(alphas):\n",
    "    best_alpha = None\n",
    "    best_result = 0\n",
    "    \n",
    "    for a in alphas:\n",
    "        mnb_model = MultinomialNB(alpha = a)\n",
    "        X_final = cvecGV.transform(X_test)\n",
    "        mnb_model.fit(X_cvec, y_train_posneg)\n",
    "        y_pred = mnb_model.predict(X_final)\n",
    "        result = accuracy_score(y_pred, y_test_posneg)\n",
    "        print(\"accuracy for alpha =\", a, \":\", result)\n",
    "        if result > best_result:\n",
    "            best_result = result\n",
    "            best_alpha = a\n",
    "        \n",
    "    print(\"The best result is\",best_result,\"with alpha of\", best_alpha)"
   ]
  },
  {
   "cell_type": "code",
   "execution_count": 114,
   "metadata": {},
   "outputs": [
    {
     "name": "stdout",
     "output_type": "stream",
     "text": [
      "accuracy for alpha = 2.5 : 0.781447963800905\n",
      "accuracy for alpha = 2.6 : 0.7828054298642534\n",
      "accuracy for alpha = 2.7 : 0.7828054298642534\n",
      "accuracy for alpha = 2.8 : 0.7823529411764706\n",
      "accuracy for alpha = 2.9 : 0.7819004524886878\n",
      "accuracy for alpha = 3.0 : 0.7809954751131222\n",
      "The best result is 0.7828054298642534 with alpha of 2.6\n"
     ]
    }
   ],
   "source": [
    "alphas = [2.5, 2.6, 2.7, 2.8, 2.9, 3.0]\n",
    "hyper_parameter_tuning(alphas)"
   ]
  },
  {
   "cell_type": "code",
   "execution_count": 120,
   "metadata": {},
   "outputs": [],
   "source": [
    "# The best hyperparameter value so far is 2.6"
   ]
  },
  {
   "cell_type": "code",
   "execution_count": null,
   "metadata": {},
   "outputs": [],
   "source": [
    "#====================Bagging Classifier with NB Model================"
   ]
  },
  {
   "cell_type": "code",
   "execution_count": 122,
   "metadata": {},
   "outputs": [],
   "source": [
    "from sklearn.ensemble import BaggingClassifier\n",
    "from sklearn import model_selection\n",
    "\n",
    "# Timer begins\n",
    "# start = timeit.default_timer()\n"
   ]
  },
  {
   "cell_type": "code",
   "execution_count": 129,
   "metadata": {},
   "outputs": [],
   "source": [
    "mnb = MultinomialNB(alpha = 2.6)\n",
    "X_final = cvecGV.transform(X_test)"
   ]
  },
  {
   "cell_type": "code",
   "execution_count": 130,
   "metadata": {},
   "outputs": [],
   "source": [
    "def bagging_max_sample_optimization(samples):\n",
    "    best_sample = 0\n",
    "    best_result = 0\n",
    "    \n",
    "    for s in samples:\n",
    "        bg = BaggingClassifier(mnb, max_samples = s, max_features = 0.5, n_estimators = 200)\n",
    "        bg.fit(X_cvec, y_train_posneg)\n",
    "        y_pred = bg.predict(X_final)\n",
    "        result = accuracy_score(y_pred, y_test_posneg)\n",
    "        print(\"Bagging Classifier with {} ratio of sample is {}\".format(s, result))\n",
    "        if result > best_result:\n",
    "            best_result = result\n",
    "            best_sample = s\n",
    "    print(\"The best result is {} ratio of sample with accuracy of {}\".format(best_sample, best_result))"
   ]
  },
  {
   "cell_type": "code",
   "execution_count": 137,
   "metadata": {},
   "outputs": [
    {
     "name": "stdout",
     "output_type": "stream",
     "text": [
      "Bagging Classifier with 0.6 ratio of sample is 0.7773755656108597\n",
      "Bagging Classifier with 0.7 ratio of sample is 0.779185520361991\n",
      "Bagging Classifier with 0.8 ratio of sample is 0.7760180995475113\n",
      "Bagging Classifier with 0.9 ratio of sample is 0.7796380090497738\n",
      "Bagging Classifier with 1.0 ratio of sample is 0.7764705882352941\n",
      "The best result is 0.9 ratio of sample with accuracy of 0.7796380090497738\n"
     ]
    }
   ],
   "source": [
    "samples = [0.6, 0.7, 0.8, 0.9, 1.0]\n",
    "bagging_max_sample_optimization(samples)"
   ]
  },
  {
   "cell_type": "code",
   "execution_count": 138,
   "metadata": {},
   "outputs": [],
   "source": [
    "# The best ratio is so far is 0.9, so we set the best sample ratio as a variable\n",
    "bestSampleRate = 0.9"
   ]
  },
  {
   "cell_type": "code",
   "execution_count": 139,
   "metadata": {},
   "outputs": [],
   "source": [
    "def bagging_max_feature_optimization(features):\n",
    "    best_feature = 0\n",
    "    best_result = 0\n",
    "    \n",
    "    for f in features:\n",
    "        bg = BaggingClassifier(mnb, max_samples = bestSampleRate, max_features = f, n_estimators = 200)\n",
    "        bg.fit(X_cvec, y_train_posneg)\n",
    "        y_pred = bg.predict(X_final)\n",
    "        result = accuracy_score(y_pred, y_test_posneg)\n",
    "        print(\"Bagging Classifier with {} ratio of sample is {}\".format(f, result))\n",
    "        if result > best_result:\n",
    "            best_result = result\n",
    "            best_feature = f\n",
    "    print(\"The best result is {} ratio of sample with accuracy of {}\".format(best_feature, best_result))"
   ]
  },
  {
   "cell_type": "code",
   "execution_count": 142,
   "metadata": {},
   "outputs": [
    {
     "name": "stdout",
     "output_type": "stream",
     "text": [
      "Bagging Classifier with 0.4 ratio of sample is 0.7782805429864253\n",
      "Bagging Classifier with 0.5 ratio of sample is 0.7778280542986425\n",
      "Bagging Classifier with 0.6 ratio of sample is 0.7832579185520362\n",
      "Bagging Classifier with 0.7 ratio of sample is 0.7823529411764706\n",
      "Bagging Classifier with 0.8 ratio of sample is 0.7769230769230769\n",
      "Bagging Classifier with 0.9 ratio of sample is 0.7832579185520362\n",
      "The best result is 0.6 ratio of sample with accuracy of 0.7832579185520362\n"
     ]
    }
   ],
   "source": [
    "features = [0.4, 0.5, 0.6, 0.7, 0.8, 0.9]\n",
    "bagging_max_feature_optimization(features)\n",
    "\n",
    "# # Timer stops\n",
    "# stop = timeit.default_timer()\n",
    "# print(\"Time Execution bagging classifier: {}\".format(stop - start))"
   ]
  },
  {
   "cell_type": "code",
   "execution_count": 144,
   "metadata": {},
   "outputs": [],
   "source": [
    "bestFeatureRatio = 0.6"
   ]
  },
  {
   "cell_type": "code",
   "execution_count": 148,
   "metadata": {},
   "outputs": [],
   "source": [
    "def bagging_max_estimator_optimization(estimators):\n",
    "    best_estim = 0\n",
    "    best_result = 0\n",
    "    \n",
    "    for e in estimators:\n",
    "        bg = BaggingClassifier(mnb, max_samples = bestSampleRate, max_features = bestFeatureRatio, n_estimators = e)\n",
    "        bg.fit(X_cvec, y_train_posneg)\n",
    "        y_pred = bg.predict(X_final)\n",
    "        result = accuracy_score(y_pred, y_test_posneg)\n",
    "        print(\"Bagging Classifier with {} ratio of sample is {}\".format(e, result))\n",
    "        if result > best_result:\n",
    "            best_result = result\n",
    "            best_estim = e\n",
    "    print(\"The best result is {} estimators with accuracy of {}\".format(best_estim, best_result))"
   ]
  },
  {
   "cell_type": "code",
   "execution_count": 151,
   "metadata": {},
   "outputs": [
    {
     "name": "stdout",
     "output_type": "stream",
     "text": [
      "Bagging Classifier with 400 ratio of sample is 0.7796380090497738\n",
      "Bagging Classifier with 600 ratio of sample is 0.7796380090497738\n",
      "Bagging Classifier with 800 ratio of sample is 0.7819004524886878\n",
      "Bagging Classifier with 1000 ratio of sample is 0.7809954751131222\n",
      "The best result is 800 estimators with accuracy of 0.7819004524886878\n"
     ]
    }
   ],
   "source": [
    "estimators = [400, 600, 800, 1000]\n",
    "bagging_max_estimator_optimization(estimators)"
   ]
  },
  {
   "cell_type": "code",
   "execution_count": 121,
   "metadata": {},
   "outputs": [],
   "source": [
    "#=============================================================="
   ]
  },
  {
   "cell_type": "code",
   "execution_count": 152,
   "metadata": {},
   "outputs": [],
   "source": [
    "#===================================End of Positive / Negative Section=================================="
   ]
  },
  {
   "cell_type": "code",
   "execution_count": null,
   "metadata": {},
   "outputs": [],
   "source": []
  },
  {
   "cell_type": "code",
   "execution_count": 153,
   "metadata": {},
   "outputs": [],
   "source": [
    "#==================================Fine Grain Section==============================================="
   ]
  },
  {
   "cell_type": "code",
   "execution_count": 154,
   "metadata": {},
   "outputs": [],
   "source": [
    "cvec = CountVectorizer()\n",
    "tfidf = TfidfVectorizer()\n",
    "mnb = MultinomialNB()"
   ]
  },
  {
   "cell_type": "code",
   "execution_count": 155,
   "metadata": {},
   "outputs": [],
   "source": [
    "stop_word_extractor = [None, \"english\"]\n",
    "vectorizer = [cvec, tfidf]"
   ]
  },
  {
   "cell_type": "code",
   "execution_count": 167,
   "metadata": {},
   "outputs": [
    {
     "name": "stdout",
     "output_type": "stream",
     "text": [
      "==============================INCLUDING STOP WORDS============================\n",
      "\t=================COUNTVECTORIZER===============\n",
      "MultinomialNB(alpha=1.0, class_prior=None, fit_prior=True)\n",
      "\n",
      "\n",
      "accuracy with 2500 features: 0.41266968325791853\n",
      "accuracy with 5000 features: 0.4171945701357466\n",
      "accuracy with 7500 features: 0.4108597285067873\n",
      "accuracy with 10000 features: 0.4072398190045249\n",
      "accuracy with 12500 features: 0.4076923076923077\n",
      "accuracy with 15000 features: 0.4113122171945701\n",
      "accuracy with 17500 features: 0.4099547511312217\n",
      "accuracy with 20000 features: 0.4099547511312217\n",
      "\n",
      "\n",
      "\t=================TFIDF=============\n",
      "MultinomialNB(alpha=1.0, class_prior=None, fit_prior=True)\n",
      "\n",
      "\n",
      "accuracy with 2500 features: 0.39819004524886875\n",
      "accuracy with 5000 features: 0.40361990950226245\n",
      "accuracy with 7500 features: 0.40180995475113124\n",
      "accuracy with 10000 features: 0.3995475113122172\n",
      "accuracy with 12500 features: 0.3990950226244344\n",
      "accuracy with 15000 features: 0.39728506787330314\n",
      "accuracy with 17500 features: 0.39728506787330314\n",
      "accuracy with 20000 features: 0.39728506787330314\n",
      "\n",
      "\n",
      "==============================NOT INCLUDING STOP WORDS============================\n",
      "\t=================COUNTVECTORIZER===============\n",
      "MultinomialNB(alpha=1.0, class_prior=None, fit_prior=True)\n",
      "\n",
      "\n",
      "accuracy with 2500 features: 0.38371040723981903\n",
      "accuracy with 5000 features: 0.39592760180995473\n",
      "accuracy with 7500 features: 0.3945701357466063\n",
      "accuracy with 10000 features: 0.39638009049773754\n",
      "accuracy with 12500 features: 0.3950226244343891\n",
      "accuracy with 15000 features: 0.3936651583710407\n",
      "accuracy with 17500 features: 0.3936651583710407\n",
      "accuracy with 20000 features: 0.3936651583710407\n",
      "\n",
      "\n",
      "\t=================TFIDF=============\n",
      "MultinomialNB(alpha=1.0, class_prior=None, fit_prior=True)\n",
      "\n",
      "\n",
      "accuracy with 2500 features: 0.38416289592760183\n",
      "accuracy with 5000 features: 0.3950226244343891\n",
      "accuracy with 7500 features: 0.3950226244343891\n",
      "accuracy with 10000 features: 0.3918552036199095\n",
      "accuracy with 12500 features: 0.3941176470588235\n",
      "accuracy with 15000 features: 0.3932126696832579\n",
      "accuracy with 17500 features: 0.3932126696832579\n",
      "accuracy with 20000 features: 0.3932126696832579\n",
      "\n",
      "\n"
     ]
    }
   ],
   "source": [
    "n_features = np.arange(2500,20001,2500)\n",
    "\n",
    "# unigram case \n",
    "for i in range(len(stop_word_extractor)):\n",
    "    if i == 0:\n",
    "        print(\"==============================INCLUDING STOP WORDS============================\")\n",
    "    else:\n",
    "        print(\"==============================NOT INCLUDING STOP WORDS============================\")\n",
    "    for j in range(len(vectorizer)):\n",
    "        if j == 0:\n",
    "            print(\"\\t=================COUNTVECTORIZER===============\")\n",
    "        else:\n",
    "            print(\"\\t=================TFIDF=============\")\n",
    "        feature_result_unigram = nfeature_accuracy_checker(X_train, y_train_finegrain, X_test, y_test_finegrain,\n",
    "                                                                                   vectorizer=vectorizer[j], n_features=n_features, stop_words=stop_word_extractor[i], classifier=mnb)"
   ]
  },
  {
   "cell_type": "code",
   "execution_count": 168,
   "metadata": {},
   "outputs": [
    {
     "name": "stdout",
     "output_type": "stream",
     "text": [
      "==============================INCLUDING STOP WORDS============================\n",
      "\t=================COUNTVECTORIZER===============\n",
      "MultinomialNB(alpha=1.0, class_prior=None, fit_prior=True)\n",
      "\n",
      "\n",
      "accuracy with 2500 features: 0.38823529411764707\n",
      "accuracy with 5000 features: 0.39728506787330314\n",
      "accuracy with 7500 features: 0.41266968325791853\n",
      "accuracy with 10000 features: 0.4085972850678733\n",
      "accuracy with 12500 features: 0.4095022624434389\n",
      "accuracy with 15000 features: 0.4072398190045249\n",
      "accuracy with 17500 features: 0.40407239819004526\n",
      "accuracy with 20000 features: 0.4072398190045249\n",
      "accuracy with 22500 features: 0.4095022624434389\n",
      "accuracy with 25000 features: 0.4117647058823529\n",
      "\n",
      "\n",
      "\t=================TFIDF=============\n",
      "MultinomialNB(alpha=1.0, class_prior=None, fit_prior=True)\n",
      "\n",
      "\n",
      "accuracy with 2500 features: 0.3832579185520362\n",
      "accuracy with 5000 features: 0.38868778280542987\n",
      "accuracy with 7500 features: 0.3904977375565611\n",
      "accuracy with 10000 features: 0.3891402714932127\n",
      "accuracy with 12500 features: 0.3914027149321267\n",
      "accuracy with 15000 features: 0.38868778280542987\n",
      "accuracy with 17500 features: 0.38823529411764707\n",
      "accuracy with 20000 features: 0.3909502262443439\n",
      "accuracy with 22500 features: 0.3909502262443439\n",
      "accuracy with 25000 features: 0.3895927601809955\n",
      "\n",
      "\n",
      "==============================NOT INCLUDING STOP WORDS============================\n",
      "\t=================COUNTVECTORIZER===============\n",
      "MultinomialNB(alpha=1.0, class_prior=None, fit_prior=True)\n",
      "\n",
      "\n",
      "accuracy with 2500 features: 0.3895927601809955\n",
      "accuracy with 5000 features: 0.3891402714932127\n",
      "accuracy with 7500 features: 0.3909502262443439\n",
      "accuracy with 10000 features: 0.3950226244343891\n",
      "accuracy with 12500 features: 0.3941176470588235\n",
      "accuracy with 15000 features: 0.3923076923076923\n",
      "accuracy with 17500 features: 0.3927601809954751\n",
      "accuracy with 20000 features: 0.3914027149321267\n",
      "accuracy with 22500 features: 0.38778280542986426\n",
      "accuracy with 25000 features: 0.38642533936651585\n",
      "\n",
      "\n",
      "\t=================TFIDF=============\n",
      "MultinomialNB(alpha=1.0, class_prior=None, fit_prior=True)\n",
      "\n",
      "\n",
      "accuracy with 2500 features: 0.3891402714932127\n",
      "accuracy with 5000 features: 0.38642533936651585\n",
      "accuracy with 7500 features: 0.3895927601809955\n",
      "accuracy with 10000 features: 0.38642533936651585\n",
      "accuracy with 12500 features: 0.38371040723981903\n",
      "accuracy with 15000 features: 0.38280542986425337\n",
      "accuracy with 17500 features: 0.38280542986425337\n",
      "accuracy with 20000 features: 0.38054298642533935\n",
      "accuracy with 22500 features: 0.38235294117647056\n",
      "accuracy with 25000 features: 0.38009049773755654\n",
      "\n",
      "\n"
     ]
    }
   ],
   "source": [
    "# unigram + bigram case \n",
    "# in here, we modify the number of features from the range 30000 to 130000, since \n",
    "# much more features will be created\n",
    "\n",
    "n_features = np.arange(2500,25001,2500)\n",
    "\n",
    "for i in range(len(stop_word_extractor)):\n",
    "    if i == 0:\n",
    "        print(\"==============================INCLUDING STOP WORDS============================\")\n",
    "    else:\n",
    "        print(\"==============================NOT INCLUDING STOP WORDS============================\")\n",
    "    for j in range(len(vectorizer)):\n",
    "        if j == 0:\n",
    "            print(\"\\t=================COUNTVECTORIZER===============\")\n",
    "        else:\n",
    "            print(\"\\t=================TFIDF=============\")\n",
    "        feature_result_unigram = nfeature_accuracy_checker(X_train, y_train_finegrain, X_test, y_test_finegrain,\n",
    "                                                                vectorizer=vectorizer[j], n_features=n_features, stop_words=stop_word_extractor[i], ngram_range = (1, 2), classifier=mnb)"
   ]
  },
  {
   "cell_type": "code",
   "execution_count": 166,
   "metadata": {},
   "outputs": [
    {
     "name": "stdout",
     "output_type": "stream",
     "text": [
      "==============================INCLUDING STOP WORDS============================\n",
      "\t=================COUNTVECTORIZER===============\n",
      "MultinomialNB(alpha=1.0, class_prior=None, fit_prior=True)\n",
      "\n",
      "\n",
      "accuracy with 20000 features: 0.40180995475113124\n",
      "accuracy with 25000 features: 0.4108597285067873\n",
      "accuracy with 30000 features: 0.41312217194570133\n",
      "accuracy with 35000 features: 0.4063348416289593\n",
      "accuracy with 40000 features: 0.40361990950226245\n",
      "accuracy with 45000 features: 0.3986425339366516\n",
      "accuracy with 50000 features: 0.40135746606334843\n",
      "accuracy with 55000 features: 0.3995475113122172\n",
      "accuracy with 60000 features: 0.4\n",
      "accuracy with 65000 features: 0.4004524886877828\n",
      "accuracy with 70000 features: 0.3995475113122172\n",
      "\n",
      "\n",
      "\t=================TFIDF=============\n",
      "MultinomialNB(alpha=1.0, class_prior=None, fit_prior=True)\n",
      "\n",
      "\n",
      "accuracy with 20000 features: 0.3904977375565611\n",
      "accuracy with 25000 features: 0.38868778280542987\n",
      "accuracy with 30000 features: 0.3891402714932127\n",
      "accuracy with 35000 features: 0.3914027149321267\n",
      "accuracy with 40000 features: 0.3923076923076923\n",
      "accuracy with 45000 features: 0.3909502262443439\n",
      "accuracy with 50000 features: 0.3945701357466063\n",
      "accuracy with 55000 features: 0.3918552036199095\n",
      "accuracy with 60000 features: 0.3904977375565611\n",
      "accuracy with 65000 features: 0.3900452488687783\n",
      "accuracy with 70000 features: 0.3895927601809955\n",
      "\n",
      "\n",
      "==============================NOT INCLUDING STOP WORDS============================\n",
      "\t=================COUNTVECTORIZER===============\n",
      "MultinomialNB(alpha=1.0, class_prior=None, fit_prior=True)\n",
      "\n",
      "\n",
      "accuracy with 20000 features: 0.3932126696832579\n",
      "accuracy with 25000 features: 0.38733031674208146\n",
      "accuracy with 30000 features: 0.38461538461538464\n",
      "accuracy with 35000 features: 0.38642533936651585\n",
      "accuracy with 40000 features: 0.38687782805429866\n",
      "accuracy with 45000 features: 0.38823529411764707\n",
      "accuracy with 50000 features: 0.38778280542986426\n",
      "accuracy with 55000 features: 0.3891402714932127\n",
      "accuracy with 60000 features: 0.3895927601809955\n",
      "accuracy with 65000 features: 0.3895927601809955\n",
      "accuracy with 70000 features: 0.38687782805429866\n",
      "\n",
      "\n",
      "\t=================TFIDF=============\n",
      "MultinomialNB(alpha=1.0, class_prior=None, fit_prior=True)\n",
      "\n",
      "\n",
      "accuracy with 20000 features: 0.38144796380090495\n",
      "accuracy with 25000 features: 0.37963800904977374\n",
      "accuracy with 30000 features: 0.3778280542986425\n",
      "accuracy with 35000 features: 0.3773755656108597\n",
      "accuracy with 40000 features: 0.37918552036199094\n",
      "accuracy with 45000 features: 0.3782805429864253\n",
      "accuracy with 50000 features: 0.3769230769230769\n",
      "accuracy with 55000 features: 0.3769230769230769\n",
      "accuracy with 60000 features: 0.37918552036199094\n",
      "accuracy with 65000 features: 0.37918552036199094\n",
      "accuracy with 70000 features: 0.3769230769230769\n",
      "\n",
      "\n"
     ]
    }
   ],
   "source": [
    "# unigram + bigram + trigram case\n",
    "# We furthur extent the number of features to the range of 120000\n",
    "\n",
    "n_features = np.arange(20000,70001,5000)\n",
    "\n",
    "for i in range(len(stop_word_extractor)):\n",
    "    if i == 0:\n",
    "        print(\"==============================INCLUDING STOP WORDS============================\")\n",
    "    else:\n",
    "        print(\"==============================NOT INCLUDING STOP WORDS============================\")\n",
    "    for j in range(len(vectorizer)):\n",
    "        if j == 0:\n",
    "            print(\"\\t=================COUNTVECTORIZER===============\")\n",
    "        else:\n",
    "            print(\"\\t=================TFIDF=============\")\n",
    "        feature_result_unigram = nfeature_accuracy_checker(X_train, y_train_finegrain, X_test, y_test_finegrain,\n",
    "                                                                vectorizer=vectorizer[j], n_features=n_features, stop_words=stop_word_extractor[i], ngram_range = (1, 3), classifier=mnb)"
   ]
  },
  {
   "cell_type": "code",
   "execution_count": 172,
   "metadata": {},
   "outputs": [],
   "source": [
    "# So far, the unigram case with CountVectorizer 5000 features has the best result"
   ]
  },
  {
   "cell_type": "code",
   "execution_count": 173,
   "metadata": {},
   "outputs": [],
   "source": [
    "mnbGV = MultinomialNB()\n",
    "\n",
    "\n",
    "cvecGV = CountVectorizer(ngram_range = (1, 1), max_features = 5000)\n",
    "# tvecGV = TfidfVectorizer(ngram_range = (1, 2), max_features = 100000, stop_words = \"english\")\n",
    "# tvecGV = TfidfVectorizer(ngram_range = (1, 2), max_features = 100000, analyzer = lemm_analyzer)\n",
    "X_cvec = cvecGV.fit_transform(X_train)"
   ]
  },
  {
   "cell_type": "code",
   "execution_count": 174,
   "metadata": {},
   "outputs": [],
   "source": [
    "def hyper_parameter_tuning_fg(alphas):\n",
    "    best_alpha = None\n",
    "    best_result = 0\n",
    "    \n",
    "    for a in alphas:\n",
    "        mnb_model = MultinomialNB(alpha = a)\n",
    "        X_final = cvecGV.transform(X_test)\n",
    "        mnb_model.fit(X_cvec, y_train_finegrain)\n",
    "        y_pred = mnb_model.predict(X_final)\n",
    "        result = accuracy_score(y_pred, y_test_finegrain)\n",
    "        print(\"accuracy for alpha =\", a, \":\", result)\n",
    "        if result > best_result:\n",
    "            best_result = result\n",
    "            best_alpha = a\n",
    "        \n",
    "    print(\"The best result is\",best_result,\"with alpha of\", best_alpha)"
   ]
  },
  {
   "cell_type": "code",
   "execution_count": 178,
   "metadata": {},
   "outputs": [
    {
     "name": "stdout",
     "output_type": "stream",
     "text": [
      "accuracy for alpha = 0.2 : 0.4108597285067873\n",
      "accuracy for alpha = 0.3 : 0.416289592760181\n",
      "accuracy for alpha = 0.4 : 0.41990950226244345\n",
      "accuracy for alpha = 0.5 : 0.42036199095022625\n",
      "accuracy for alpha = 0.6 : 0.42036199095022625\n",
      "The best result is 0.42036199095022625 with alpha of 0.5\n"
     ]
    }
   ],
   "source": [
    "alphas = [0.2, 0.3, 0.4, 0.5, 0.6]\n",
    "hyper_parameter_tuning_fg(alphas)"
   ]
  },
  {
   "cell_type": "code",
   "execution_count": 179,
   "metadata": {},
   "outputs": [],
   "source": [
    "# So far, the best alpha is 0.5"
   ]
  },
  {
   "cell_type": "code",
   "execution_count": 180,
   "metadata": {},
   "outputs": [],
   "source": [
    "mnb = MultinomialNB(alpha = 0.5)\n",
    "X_final = cvecGV.transform(X_test)"
   ]
  },
  {
   "cell_type": "code",
   "execution_count": 181,
   "metadata": {},
   "outputs": [],
   "source": [
    "def bagging_max_sample_optimization_fg(samples):\n",
    "    best_sample = 0\n",
    "    best_result = 0\n",
    "    \n",
    "    for s in samples:\n",
    "        bg = BaggingClassifier(mnb, max_samples = s, max_features = 0.5, n_estimators = 200)\n",
    "        bg.fit(X_cvec, y_train_finegrain)\n",
    "        y_pred = bg.predict(X_final)\n",
    "        result = accuracy_score(y_pred, y_test_finegrain)\n",
    "        print(\"Bagging Classifier with {} ratio of sample is {}\".format(s, result))\n",
    "        if result > best_result:\n",
    "            best_result = result\n",
    "            best_sample = s\n",
    "    print(\"The best result is {} ratio of sample with accuracy of {}\".format(best_sample, best_result))"
   ]
  },
  {
   "cell_type": "code",
   "execution_count": 183,
   "metadata": {},
   "outputs": [
    {
     "name": "stdout",
     "output_type": "stream",
     "text": [
      "Bagging Classifier with 0.4 ratio of sample is 0.4076923076923077\n",
      "Bagging Classifier with 0.5 ratio of sample is 0.4158371040723982\n",
      "Bagging Classifier with 0.6 ratio of sample is 0.4122171945701357\n",
      "Bagging Classifier with 0.7 ratio of sample is 0.4113122171945701\n",
      "Bagging Classifier with 0.8 ratio of sample is 0.41809954751131223\n",
      "Bagging Classifier with 0.9 ratio of sample is 0.416289592760181\n",
      "The best result is 0.8 ratio of sample with accuracy of 0.41809954751131223\n"
     ]
    }
   ],
   "source": [
    "features = [0.4, 0.5, 0.6, 0.7, 0.8, 0.9]\n",
    "bagging_max_sample_optimization_fg(features)"
   ]
  },
  {
   "cell_type": "code",
   "execution_count": 185,
   "metadata": {},
   "outputs": [],
   "source": [
    "# The best sample ratio was 0.8\n",
    "bestSampleRatioFG = 0.8"
   ]
  },
  {
   "cell_type": "code",
   "execution_count": 186,
   "metadata": {},
   "outputs": [],
   "source": [
    "def bagging_max_feature_optimization_fg(features):\n",
    "    best_feature = 0\n",
    "    best_result = 0\n",
    "    \n",
    "    for f in features:\n",
    "        bg = BaggingClassifier(mnb, max_samples = bestSampleRatioFG, max_features = f, n_estimators = 200)\n",
    "        bg.fit(X_cvec, y_train_finegrain)\n",
    "        y_pred = bg.predict(X_final)\n",
    "        result = accuracy_score(y_pred, y_test_finegrain)\n",
    "        print(\"Bagging Classifier with {} ratio of sample is {}\".format(f, result))\n",
    "        if result > best_result:\n",
    "            best_result = result\n",
    "            best_feature = f\n",
    "    print(\"The best result is {} ratio of sample with accuracy of {}\".format(best_feature, best_result))"
   ]
  },
  {
   "cell_type": "code",
   "execution_count": 187,
   "metadata": {},
   "outputs": [
    {
     "name": "stdout",
     "output_type": "stream",
     "text": [
      "Bagging Classifier with 0.6 ratio of sample is 0.4158371040723982\n",
      "Bagging Classifier with 0.7 ratio of sample is 0.41855203619909503\n",
      "Bagging Classifier with 0.8 ratio of sample is 0.4171945701357466\n",
      "Bagging Classifier with 0.9 ratio of sample is 0.41945701357466064\n",
      "Bagging Classifier with 1.0 ratio of sample is 0.41809954751131223\n",
      "The best result is 0.9 ratio of sample with accuracy of 0.41945701357466064\n"
     ]
    }
   ],
   "source": [
    "samples = [0.6, 0.7, 0.8, 0.9, 1.0]\n",
    "bagging_max_sample_optimization_fg(samples)"
   ]
  },
  {
   "cell_type": "code",
   "execution_count": 188,
   "metadata": {},
   "outputs": [],
   "source": [
    "# The best feature ratio so far is 0.9\n",
    "bestFeatureRatioFG = 0.9"
   ]
  },
  {
   "cell_type": "code",
   "execution_count": 189,
   "metadata": {},
   "outputs": [],
   "source": [
    "def bagging_max_estimator_optimization(estimators):\n",
    "    best_estim = 0\n",
    "    best_result = 0\n",
    "    \n",
    "    for e in estimators:\n",
    "        bg = BaggingClassifier(mnb, max_samples = bestSampleRatioFG, max_features = bestFeatureRatioFG, n_estimators = e)\n",
    "        bg.fit(X_cvec, y_train_finegrain)\n",
    "        y_pred = bg.predict(X_final)\n",
    "        result = accuracy_score(y_pred, y_test_finegrain)\n",
    "        print(\"Bagging Classifier with {} ratio of sample is {}\".format(e, result))\n",
    "        if result > best_result:\n",
    "            best_result = result\n",
    "            best_estim = e\n",
    "    print(\"The best result is {} estimators with accuracy of {}\".format(best_estim, best_result))"
   ]
  },
  {
   "cell_type": "code",
   "execution_count": 190,
   "metadata": {},
   "outputs": [
    {
     "name": "stdout",
     "output_type": "stream",
     "text": [
      "Bagging Classifier with 400 ratio of sample is 0.41809954751131223\n",
      "Bagging Classifier with 600 ratio of sample is 0.42036199095022625\n",
      "Bagging Classifier with 800 ratio of sample is 0.41900452488687784\n",
      "Bagging Classifier with 1000 ratio of sample is 0.42171945701357466\n",
      "The best result is 1000 estimators with accuracy of 0.42171945701357466\n"
     ]
    }
   ],
   "source": [
    "estimators = [400, 600, 800, 1000]\n",
    "bagging_max_estimator_optimization(estimators)"
   ]
  },
  {
   "cell_type": "code",
   "execution_count": null,
   "metadata": {},
   "outputs": [],
   "source": []
  }
 ],
 "metadata": {
  "kernelspec": {
   "display_name": "Python 3",
   "language": "python",
   "name": "python3"
  },
  "language_info": {
   "codemirror_mode": {
    "name": "ipython",
    "version": 3
   },
   "file_extension": ".py",
   "mimetype": "text/x-python",
   "name": "python",
   "nbconvert_exporter": "python",
   "pygments_lexer": "ipython3",
   "version": "3.7.4"
  }
 },
 "nbformat": 4,
 "nbformat_minor": 2
}
