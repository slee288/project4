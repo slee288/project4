{
 "cells": [
  {
   "cell_type": "code",
   "execution_count": 118,
   "metadata": {},
   "outputs": [],
   "source": [
    "import pandas as pd\n",
    "import numpy as np\n",
    "import re\n",
    "import matplotlib.pyplot as plt\n",
    "import string as str\n",
    "# import seaborn as sns\n",
    "from bs4 import BeautifulSoup"
   ]
  },
  {
   "cell_type": "code",
   "execution_count": 137,
   "metadata": {},
   "outputs": [
    {
     "data": {
      "text/html": [
       "<div>\n",
       "<style scoped>\n",
       "    .dataframe tbody tr th:only-of-type {\n",
       "        vertical-align: middle;\n",
       "    }\n",
       "\n",
       "    .dataframe tbody tr th {\n",
       "        vertical-align: top;\n",
       "    }\n",
       "\n",
       "    .dataframe thead th {\n",
       "        text-align: right;\n",
       "    }\n",
       "</style>\n",
       "<table border=\"1\" class=\"dataframe\">\n",
       "  <thead>\n",
       "    <tr style=\"text-align: right;\">\n",
       "      <th></th>\n",
       "      <th>Unnamed: 0</th>\n",
       "      <th>sentiment</th>\n",
       "      <th>text</th>\n",
       "    </tr>\n",
       "  </thead>\n",
       "  <tbody>\n",
       "    <tr>\n",
       "      <td>0</td>\n",
       "      <td>0</td>\n",
       "      <td>0</td>\n",
       "      <td>pauln - Got my arse kicked at Crystal Palace -...</td>\n",
       "    </tr>\n",
       "    <tr>\n",
       "      <td>1</td>\n",
       "      <td>1</td>\n",
       "      <td>4</td>\n",
       "      <td>@IHeartLost yeah, it is pretty cool. I prefer ...</td>\n",
       "    </tr>\n",
       "    <tr>\n",
       "      <td>2</td>\n",
       "      <td>2</td>\n",
       "      <td>4</td>\n",
       "      <td>I'm happy... Not for any real reason.. Just ha...</td>\n",
       "    </tr>\n",
       "    <tr>\n",
       "      <td>3</td>\n",
       "      <td>3</td>\n",
       "      <td>0</td>\n",
       "      <td>slept very well.take a shower now.have to do m...</td>\n",
       "    </tr>\n",
       "    <tr>\n",
       "      <td>4</td>\n",
       "      <td>4</td>\n",
       "      <td>4</td>\n",
       "      <td>@GOttaviani yesss, it's cool, my favorite tune...</td>\n",
       "    </tr>\n",
       "    <tr>\n",
       "      <td>...</td>\n",
       "      <td>...</td>\n",
       "      <td>...</td>\n",
       "      <td>...</td>\n",
       "    </tr>\n",
       "    <tr>\n",
       "      <td>79995</td>\n",
       "      <td>79995</td>\n",
       "      <td>4</td>\n",
       "      <td>raidys bbq tonight  free food &amp;amp; morrellis ...</td>\n",
       "    </tr>\n",
       "    <tr>\n",
       "      <td>79996</td>\n",
       "      <td>79996</td>\n",
       "      <td>4</td>\n",
       "      <td>Don't you just luv follow fridays--** thank yo...</td>\n",
       "    </tr>\n",
       "    <tr>\n",
       "      <td>79997</td>\n",
       "      <td>79997</td>\n",
       "      <td>4</td>\n",
       "      <td>@megodbike ahh I see! you need to go recruit s...</td>\n",
       "    </tr>\n",
       "    <tr>\n",
       "      <td>79998</td>\n",
       "      <td>79998</td>\n",
       "      <td>0</td>\n",
       "      <td>is not of housewife material : self-cooked ric...</td>\n",
       "    </tr>\n",
       "    <tr>\n",
       "      <td>79999</td>\n",
       "      <td>79999</td>\n",
       "      <td>0</td>\n",
       "      <td>Momma is sick  wish I could go see her</td>\n",
       "    </tr>\n",
       "  </tbody>\n",
       "</table>\n",
       "<p>80000 rows × 3 columns</p>\n",
       "</div>"
      ],
      "text/plain": [
       "       Unnamed: 0  sentiment  \\\n",
       "0               0          0   \n",
       "1               1          4   \n",
       "2               2          4   \n",
       "3               3          0   \n",
       "4               4          4   \n",
       "...           ...        ...   \n",
       "79995       79995          4   \n",
       "79996       79996          4   \n",
       "79997       79997          4   \n",
       "79998       79998          0   \n",
       "79999       79999          0   \n",
       "\n",
       "                                                    text  \n",
       "0      pauln - Got my arse kicked at Crystal Palace -...  \n",
       "1      @IHeartLost yeah, it is pretty cool. I prefer ...  \n",
       "2      I'm happy... Not for any real reason.. Just ha...  \n",
       "3      slept very well.take a shower now.have to do m...  \n",
       "4      @GOttaviani yesss, it's cool, my favorite tune...  \n",
       "...                                                  ...  \n",
       "79995  raidys bbq tonight  free food &amp; morrellis ...  \n",
       "79996  Don't you just luv follow fridays--** thank yo...  \n",
       "79997  @megodbike ahh I see! you need to go recruit s...  \n",
       "79998  is not of housewife material : self-cooked ric...  \n",
       "79999             Momma is sick  wish I could go see her  \n",
       "\n",
       "[80000 rows x 3 columns]"
      ]
     },
     "execution_count": 137,
     "metadata": {},
     "output_type": "execute_result"
    }
   ],
   "source": [
    "df_train = pd.read_csv(\"tweet_training.csv\")\n",
    "df_validation = pd.read_csv(\"tweet_dev.csv\")\n",
    "\n",
    "df_train"
   ]
  },
  {
   "cell_type": "code",
   "execution_count": 138,
   "metadata": {},
   "outputs": [],
   "source": [
    "#Strips emojis\n",
    "def handle_emojis(tweet):\n",
    "    # Smile -- :), : ), :-), (:, ( :, (-:, :'),:D, : D, =)\n",
    "    \n",
    "    tweet = re.sub(r'(:\\s?\\)|:-\\)|\\(\\s?:|\\(-:|:\\'\\))|:\\s?D | =\\)', '', tweet)\n",
    "    # Sad -- :-(, : (, :(, ):, )-: , :p\n",
    "    tweet = re.sub(r'(:\\s?\\(|:-\\(|\\)\\s?:|\\)-:)|:p', '', tweet)\n",
    "    return tweet"
   ]
  },
  {
   "cell_type": "code",
   "execution_count": 139,
   "metadata": {},
   "outputs": [],
   "source": [
    "#clean data with below components removed or replaced\n",
    "url = re.compile(r\"(?:(http[s]?://\\S+)|((//)?(\\w+\\.)?\\w+\\.\\w+/\\S+))\")\n",
    "user_mention = re.compile(r\"(?:(?<!\\w)@\\w+\\b)\")\n",
    "number = re.compile(r\"(?:\\b\\d+\\b)\")\n",
    "repeated_char = '([a-zA-Z])\\\\1+'\n",
    "length_repeated_char = '\\\\1\\\\1'\n",
    "\n",
    "def clean(raw):\n",
    "  #convert HTML encoding to text\n",
    "  new_row = BeautifulSoup(raw, 'html.parser').get_text()\n",
    "  \n",
    "  #Change all text to lower case\n",
    "  new_row = new_row.lower()\n",
    "  \n",
    "  #Replaces any url with class URL\n",
    "  new_row = re.sub(url, '', new_row)\n",
    "  \n",
    "  #replace any @username with class USERNAME\n",
    "  new_row = re.sub(user_mention, '', new_row)\n",
    "  \n",
    "  #Strips repeated chars\n",
    "  new_row = re.sub(repeated_char, length_repeated_char, new_row)\n",
    "  \n",
    "  #Replaces #hashtag with hashtag\n",
    "  new_row = re.sub(r'#(\\S+)', r' \\1 ', new_row)\n",
    "  \n",
    "  #Remove numbers\n",
    "  new_row = re.sub(number, '', new_row)\n",
    "  \n",
    "  #decode text with 'utf-8-sig'\n",
    "  try:\n",
    "    temp_row = new_row.decode(\"utf-8-sig\").replace(u\"\\ufffd\", \"?\")     \n",
    "  except:\n",
    "    temp_row = new_row\n",
    "  \n",
    "  #Removes emojis\n",
    "  new_row = handle_emojis(temp_row);\n",
    "  \n",
    "  return new_row"
   ]
  },
  {
   "cell_type": "code",
   "execution_count": 140,
   "metadata": {},
   "outputs": [],
   "source": [
    "clean_train = []\n",
    "clean_validation = []"
   ]
  },
  {
   "cell_type": "code",
   "execution_count": 141,
   "metadata": {},
   "outputs": [],
   "source": [
    "for i in range(0, 80000):\n",
    "    clean_train.append(clean(df_train['text'][i]))\n",
    "\n",
    "for i in range(0, 16000):\n",
    "    clean_validation.append(clean(df_validation['text'][i]))"
   ]
  },
  {
   "cell_type": "code",
   "execution_count": 142,
   "metadata": {},
   "outputs": [],
   "source": [
    "#save to csv file\n",
    "clean_df_train = pd.DataFrame(clean_train, columns=['text'])\n",
    "clean_df_validation = pd.DataFrame(clean_validation, columns = ['text'])\n",
    "\n",
    "clean_df_train['target'] = df_train.sentiment\n",
    "clean_df_validation['target'] = df_validation.sentiment\n",
    "\n",
    "clean_df_train.to_csv('tweet_clean_train.csv',encoding='utf-8')\n",
    "clean_df_validation.to_csv(\"tweet_clean_validation.csv\", encoding = \"utf-8\")"
   ]
  },
  {
   "cell_type": "code",
   "execution_count": 143,
   "metadata": {},
   "outputs": [
    {
     "data": {
      "text/html": [
       "<div>\n",
       "<style scoped>\n",
       "    .dataframe tbody tr th:only-of-type {\n",
       "        vertical-align: middle;\n",
       "    }\n",
       "\n",
       "    .dataframe tbody tr th {\n",
       "        vertical-align: top;\n",
       "    }\n",
       "\n",
       "    .dataframe thead th {\n",
       "        text-align: right;\n",
       "    }\n",
       "</style>\n",
       "<table border=\"1\" class=\"dataframe\">\n",
       "  <thead>\n",
       "    <tr style=\"text-align: right;\">\n",
       "      <th></th>\n",
       "      <th>text</th>\n",
       "      <th>target</th>\n",
       "    </tr>\n",
       "  </thead>\n",
       "  <tbody>\n",
       "    <tr>\n",
       "      <td>0</td>\n",
       "      <td>pauln - got my arse kicked at crystal palace -...</td>\n",
       "      <td>0</td>\n",
       "    </tr>\n",
       "    <tr>\n",
       "      <td>1</td>\n",
       "      <td>yeah, it is pretty cool. i prefer it when eve...</td>\n",
       "      <td>4</td>\n",
       "    </tr>\n",
       "    <tr>\n",
       "      <td>2</td>\n",
       "      <td>i'm happy... not for any real reason.. just ha...</td>\n",
       "      <td>4</td>\n",
       "    </tr>\n",
       "    <tr>\n",
       "      <td>3</td>\n",
       "      <td>slept very well.take a shower now.have to do m...</td>\n",
       "      <td>0</td>\n",
       "    </tr>\n",
       "    <tr>\n",
       "      <td>4</td>\n",
       "      <td>yess, it's cool, my favorite tune in . intere...</td>\n",
       "      <td>4</td>\n",
       "    </tr>\n",
       "    <tr>\n",
       "      <td>...</td>\n",
       "      <td>...</td>\n",
       "      <td>...</td>\n",
       "    </tr>\n",
       "    <tr>\n",
       "      <td>79995</td>\n",
       "      <td>raidys bbq tonight  free food &amp; morrellis ice ...</td>\n",
       "      <td>4</td>\n",
       "    </tr>\n",
       "    <tr>\n",
       "      <td>79996</td>\n",
       "      <td>don't you just luv follow fridays--** thank yo...</td>\n",
       "      <td>4</td>\n",
       "    </tr>\n",
       "    <tr>\n",
       "      <td>79997</td>\n",
       "      <td>ahh i see! you need to go recruit some young ...</td>\n",
       "      <td>4</td>\n",
       "    </tr>\n",
       "    <tr>\n",
       "      <td>79998</td>\n",
       "      <td>is not of housewife material : self-cooked ric...</td>\n",
       "      <td>0</td>\n",
       "    </tr>\n",
       "    <tr>\n",
       "      <td>79999</td>\n",
       "      <td>momma is sick  wish i could go see her</td>\n",
       "      <td>0</td>\n",
       "    </tr>\n",
       "  </tbody>\n",
       "</table>\n",
       "<p>80000 rows × 2 columns</p>\n",
       "</div>"
      ],
      "text/plain": [
       "                                                    text  target\n",
       "0      pauln - got my arse kicked at crystal palace -...       0\n",
       "1       yeah, it is pretty cool. i prefer it when eve...       4\n",
       "2      i'm happy... not for any real reason.. just ha...       4\n",
       "3      slept very well.take a shower now.have to do m...       0\n",
       "4       yess, it's cool, my favorite tune in . intere...       4\n",
       "...                                                  ...     ...\n",
       "79995  raidys bbq tonight  free food & morrellis ice ...       4\n",
       "79996  don't you just luv follow fridays--** thank yo...       4\n",
       "79997   ahh i see! you need to go recruit some young ...       4\n",
       "79998  is not of housewife material : self-cooked ric...       0\n",
       "79999             momma is sick  wish i could go see her       0\n",
       "\n",
       "[80000 rows x 2 columns]"
      ]
     },
     "execution_count": 143,
     "metadata": {},
     "output_type": "execute_result"
    }
   ],
   "source": [
    "# Using columns 1,2 because col 0 is the number of the row, could be changed if the row number is removed from the csv file.\n",
    "traindf = pd.read_csv('tweet_clean_train.csv', usecols = [1,2], encoding='latin-1')\n",
    "validationdf = pd.read_csv(\"tweet_clean_validation.csv\", usecols = [1,2], encoding = \"latin-1\")\n",
    "\n",
    "traindf"
   ]
  },
  {
   "cell_type": "code",
   "execution_count": 144,
   "metadata": {},
   "outputs": [
    {
     "name": "stdout",
     "output_type": "stream",
     "text": [
      "<class 'pandas.core.frame.DataFrame'>\n",
      "RangeIndex: 80000 entries, 0 to 79999\n",
      "Data columns (total 2 columns):\n",
      "text      80000 non-null object\n",
      "target    80000 non-null int64\n",
      "dtypes: int64(1), object(1)\n",
      "memory usage: 1.2+ MB\n"
     ]
    },
    {
     "data": {
      "text/html": [
       "<div>\n",
       "<style scoped>\n",
       "    .dataframe tbody tr th:only-of-type {\n",
       "        vertical-align: middle;\n",
       "    }\n",
       "\n",
       "    .dataframe tbody tr th {\n",
       "        vertical-align: top;\n",
       "    }\n",
       "\n",
       "    .dataframe thead th {\n",
       "        text-align: right;\n",
       "    }\n",
       "</style>\n",
       "<table border=\"1\" class=\"dataframe\">\n",
       "  <thead>\n",
       "    <tr style=\"text-align: right;\">\n",
       "      <th></th>\n",
       "      <th>text</th>\n",
       "      <th>target</th>\n",
       "    </tr>\n",
       "  </thead>\n",
       "  <tbody>\n",
       "    <tr>\n",
       "      <td>0</td>\n",
       "      <td>pauln - got my arse kicked at crystal palace -...</td>\n",
       "      <td>0</td>\n",
       "    </tr>\n",
       "    <tr>\n",
       "      <td>1</td>\n",
       "      <td>yeah, it is pretty cool. i prefer it when ever...</td>\n",
       "      <td>4</td>\n",
       "    </tr>\n",
       "    <tr>\n",
       "      <td>2</td>\n",
       "      <td>i'm happy... not for any real reason.. just ha...</td>\n",
       "      <td>4</td>\n",
       "    </tr>\n",
       "    <tr>\n",
       "      <td>3</td>\n",
       "      <td>slept very well.take a shower now.have to do m...</td>\n",
       "      <td>0</td>\n",
       "    </tr>\n",
       "    <tr>\n",
       "      <td>4</td>\n",
       "      <td>yess, it's cool, my favorite tune in . interes...</td>\n",
       "      <td>4</td>\n",
       "    </tr>\n",
       "    <tr>\n",
       "      <td>...</td>\n",
       "      <td>...</td>\n",
       "      <td>...</td>\n",
       "    </tr>\n",
       "    <tr>\n",
       "      <td>79995</td>\n",
       "      <td>raidys bbq tonight  free food &amp; morrellis ice ...</td>\n",
       "      <td>4</td>\n",
       "    </tr>\n",
       "    <tr>\n",
       "      <td>79996</td>\n",
       "      <td>don't you just luv follow fridays--** thank yo...</td>\n",
       "      <td>4</td>\n",
       "    </tr>\n",
       "    <tr>\n",
       "      <td>79997</td>\n",
       "      <td>ahh i see! you need to go recruit some young l...</td>\n",
       "      <td>4</td>\n",
       "    </tr>\n",
       "    <tr>\n",
       "      <td>79998</td>\n",
       "      <td>is not of housewife material : self-cooked ric...</td>\n",
       "      <td>0</td>\n",
       "    </tr>\n",
       "    <tr>\n",
       "      <td>79999</td>\n",
       "      <td>momma is sick  wish i could go see her</td>\n",
       "      <td>0</td>\n",
       "    </tr>\n",
       "  </tbody>\n",
       "</table>\n",
       "<p>79846 rows × 2 columns</p>\n",
       "</div>"
      ],
      "text/plain": [
       "                                                    text  target\n",
       "0      pauln - got my arse kicked at crystal palace -...       0\n",
       "1      yeah, it is pretty cool. i prefer it when ever...       4\n",
       "2      i'm happy... not for any real reason.. just ha...       4\n",
       "3      slept very well.take a shower now.have to do m...       0\n",
       "4      yess, it's cool, my favorite tune in . interes...       4\n",
       "...                                                  ...     ...\n",
       "79995  raidys bbq tonight  free food & morrellis ice ...       4\n",
       "79996  don't you just luv follow fridays--** thank yo...       4\n",
       "79997  ahh i see! you need to go recruit some young l...       4\n",
       "79998  is not of housewife material : self-cooked ric...       0\n",
       "79999             momma is sick  wish i could go see her       0\n",
       "\n",
       "[79846 rows x 2 columns]"
      ]
     },
     "execution_count": 144,
     "metadata": {},
     "output_type": "execute_result"
    }
   ],
   "source": [
    "# Checking read cleaned file info if there are any null entries (found none) or white space\n",
    "traindf.info()\n",
    "traindf['text'] = traindf['text'].str.strip()\n",
    "traindf.drop(traindf[traindf.text == ''].index, inplace=True)\n",
    "traindf"
   ]
  },
  {
   "cell_type": "code",
   "execution_count": 146,
   "metadata": {},
   "outputs": [],
   "source": [
    "X_train = traindf[\"text\"].values\n",
    "y_train = traindf[\"target\"].values\n",
    "\n",
    "X_validation = validationdf[\"text\"].values\n",
    "y_validation = validationdf[\"target\"].values"
   ]
  },
  {
   "cell_type": "code",
   "execution_count": 156,
   "metadata": {},
   "outputs": [],
   "source": [
    "from sklearn.feature_extraction.text import CountVectorizer\n",
    "from sklearn.feature_extraction.text import TfidfVectorizer\n",
    "\n",
    "from sklearn.naive_bayes import MultinomialNB\n",
    "from sklearn import model_selection\n",
    "from sklearn.metrics import accuracy_score"
   ]
  },
  {
   "cell_type": "code",
   "execution_count": 157,
   "metadata": {},
   "outputs": [],
   "source": [
    "cvec = CountVectorizer()\n",
    "tfidf = TfidfVectorizer()\n",
    "\n",
    "X_train_cvec = cvec.fit_transform(X_train, y_train)\n",
    "X_train_tf = tfidf.fit_transform(X_train, y_train)"
   ]
  },
  {
   "cell_type": "code",
   "execution_count": 160,
   "metadata": {},
   "outputs": [
    {
     "name": "stdout",
     "output_type": "stream",
     "text": [
      "Cross validation with countvectorizer:  0.7649350030210773\n",
      "Cross validation with TfidfVectorizer:  0.7615534912606388\n",
      "Time Execution: 0.493951937998645\n"
     ]
    }
   ],
   "source": [
    "#=====================Generic 5-fold Cross Validation Score==================\n",
    "# This cross validation will only operate on the training set\n",
    "# Start the Timer\n",
    "start = timeit.default_timer()\n",
    "\n",
    "mnb = MultinomialNB()\n",
    "results_cv = model_selection.cross_val_score(mnb, X_train_cvec, y_train, cv = 5)\n",
    "print(\"Cross validation with countvectorizer: \", results_cv.mean())\n",
    "\n",
    "results_tf = model_selection.cross_val_score(mnb, X_train_tf, y_train, cv = 5)\n",
    "print(\"Cross validation with TfidfVectorizer: \", results_tf.mean())\n",
    "\n",
    "# Timer stops\n",
    "stop = timeit.default_timer()\n",
    "print(\"Time Execution: {}\".format(stop - start))"
   ]
  },
  {
   "cell_type": "code",
   "execution_count": 161,
   "metadata": {},
   "outputs": [],
   "source": [
    "# function for evaluating the accuracy of a given classifier and vectorizer\n",
    "def nfeature_accuracy_checker(vectorizer=None, n_features=None, stop_words=None, ngram_range=(1, 1), classifier=None):\n",
    "    result = []\n",
    "    print (classifier)\n",
    "    print (\"\\n\")\n",
    "    for n in n_features:\n",
    "        vectorizer.set_params(stop_words=stop_words, max_features=n, ngram_range=ngram_range)\n",
    "        checker_pipeline = Pipeline([\n",
    "            ('vectorizer', vectorizer),\n",
    "            ('classifier', classifier)\n",
    "        ])\n",
    "        t0 = time()\n",
    "        sentiment_fit = checker_pipeline.fit(X_train, y_train)\n",
    "        y_pred = sentiment_fit.predict(X_test)\n",
    "        train_test_time = time() - t0\n",
    "        accuracy = accuracy_score(y_test, y_pred)\n",
    "        print(\"accuracy with\", n, \"features:\", accuracy)\n",
    "    print(\"\\n\")"
   ]
  },
  {
   "cell_type": "code",
   "execution_count": 162,
   "metadata": {},
   "outputs": [],
   "source": [
    "from sklearn.pipeline import Pipeline\n",
    "from time import time"
   ]
  },
  {
   "cell_type": "code",
   "execution_count": 163,
   "metadata": {},
   "outputs": [],
   "source": [
    "cvec = CountVectorizer()\n",
    "tfidf = TfidfVectorizer()\n",
    "mnb = MultinomialNB()\n",
    "n_features = np.arange(10000,50001,10000)"
   ]
  },
  {
   "cell_type": "code",
   "execution_count": 164,
   "metadata": {},
   "outputs": [],
   "source": [
    "stop_word_extractor = [None, \"english\"]\n",
    "vectorizer = [cvec, tfidf]"
   ]
  },
  {
   "cell_type": "code",
   "execution_count": 165,
   "metadata": {},
   "outputs": [
    {
     "name": "stdout",
     "output_type": "stream",
     "text": [
      "==============================INCLUDING STOP WORDS============================\n",
      "\t=================COUNTVECTORIZER===============\n",
      "MultinomialNB(alpha=1.0, class_prior=None, fit_prior=True)\n",
      "\n",
      "\n",
      "accuracy with 10000 features: 0.7713125\n",
      "accuracy with 20000 features: 0.772125\n",
      "accuracy with 30000 features: 0.771125\n",
      "accuracy with 40000 features: 0.77\n",
      "accuracy with 50000 features: 0.7705\n",
      "\n",
      "\n",
      "\t=================TFIDF=============\n",
      "MultinomialNB(alpha=1.0, class_prior=None, fit_prior=True)\n",
      "\n",
      "\n",
      "accuracy with 10000 features: 0.7678125\n",
      "accuracy with 20000 features: 0.766875\n",
      "accuracy with 30000 features: 0.7675\n",
      "accuracy with 40000 features: 0.767\n",
      "accuracy with 50000 features: 0.767375\n",
      "\n",
      "\n",
      "==============================NOT INCLUDING STOP WORDS============================\n",
      "\t=================COUNTVECTORIZER===============\n",
      "MultinomialNB(alpha=1.0, class_prior=None, fit_prior=True)\n",
      "\n",
      "\n",
      "accuracy with 10000 features: 0.7489375\n",
      "accuracy with 20000 features: 0.749125\n",
      "accuracy with 30000 features: 0.75\n",
      "accuracy with 40000 features: 0.748875\n",
      "accuracy with 50000 features: 0.7485625\n",
      "\n",
      "\n",
      "\t=================TFIDF=============\n",
      "MultinomialNB(alpha=1.0, class_prior=None, fit_prior=True)\n",
      "\n",
      "\n",
      "accuracy with 10000 features: 0.747875\n",
      "accuracy with 20000 features: 0.7483125\n",
      "accuracy with 30000 features: 0.7505625\n",
      "accuracy with 40000 features: 0.749625\n",
      "accuracy with 50000 features: 0.7493125\n",
      "\n",
      "\n"
     ]
    }
   ],
   "source": [
    "# unigram case\n",
    "for i in range(len(stop_word_extractor)):\n",
    "    if i == 0:\n",
    "        print(\"==============================INCLUDING STOP WORDS============================\")\n",
    "    else:\n",
    "        print(\"==============================NOT INCLUDING STOP WORDS============================\")\n",
    "    for j in range(len(vectorizer)):\n",
    "        if j == 0:\n",
    "            print(\"\\t=================COUNTVECTORIZER===============\")\n",
    "        else:\n",
    "            print(\"\\t=================TFIDF=============\")\n",
    "        feature_result_unigram = nfeature_accuracy_checker(vectorizer=vectorizer[j], n_features=n_features, stop_words=stop_word_extractor[i], classifier=mnb)"
   ]
  },
  {
   "cell_type": "code",
   "execution_count": null,
   "metadata": {},
   "outputs": [
    {
     "name": "stdout",
     "output_type": "stream",
     "text": [
      "==============================INCLUDING STOP WORDS============================\n",
      "\t=================COUNTVECTORIZER===============\n",
      "MultinomialNB(alpha=1.0, class_prior=None, fit_prior=True)\n",
      "\n",
      "\n",
      "accuracy with 30000 features: 0.7878125\n",
      "accuracy with 40000 features: 0.7888125\n",
      "accuracy with 50000 features: 0.7888125\n",
      "accuracy with 60000 features: 0.7885\n",
      "accuracy with 70000 features: 0.788875\n",
      "accuracy with 80000 features: 0.789125\n"
     ]
    }
   ],
   "source": [
    "# bigram case\n",
    "# in here, we modify the number of features from the range 30000 to 130000, since \n",
    "# much more features will be created\n",
    "\n",
    "n_features = np.arange(30000,130001,10000)\n",
    "\n",
    "for i in range(len(stop_word_extractor)):\n",
    "    if i == 0:\n",
    "        print(\"==============================INCLUDING STOP WORDS============================\")\n",
    "    else:\n",
    "        print(\"==============================NOT INCLUDING STOP WORDS============================\")\n",
    "    for j in range(len(vectorizer)):\n",
    "        if j == 0:\n",
    "            print(\"\\t=================COUNTVECTORIZER===============\")\n",
    "        else:\n",
    "            print(\"\\t=================TFIDF=============\")\n",
    "        feature_result_unigram = nfeature_accuracy_checker(vectorizer=vectorizer[j], n_features=n_features, stop_words=stop_word_extractor[i], ngram_range = (1, 2), classifier=mnb)"
   ]
  },
  {
   "cell_type": "code",
   "execution_count": null,
   "metadata": {},
   "outputs": [],
   "source": [
    "# trigram case\n",
    "# We furthur extent the number of features to the range of 120000\n",
    "\n",
    "n_features = np.arange(10000,150001,10000)\n",
    "\n",
    "for i in range(len(stop_word_extractor)):\n",
    "    if i == 0:\n",
    "        print(\"==============================INCLUDING STOP WORDS============================\")\n",
    "    else:\n",
    "        print(\"==============================NOT INCLUDING STOP WORDS============================\")\n",
    "    for j in range(len(vectorizer)):\n",
    "        if j == 0:\n",
    "            print(\"\\t=================COUNTVECTORIZER===============\")\n",
    "        else:\n",
    "            print(\"\\t=================TFIDF=============\")\n",
    "        feature_result_unigram = nfeature_accuracy_checker(vectorizer=vectorizer[j], n_features=n_features, stop_words=stop_word_extractor[i], ngram_range = (1, 3), classifier=mnb)"
   ]
  },
  {
   "cell_type": "code",
   "execution_count": null,
   "metadata": {},
   "outputs": [],
   "source": []
  },
  {
   "cell_type": "code",
   "execution_count": null,
   "metadata": {},
   "outputs": [],
   "source": []
  },
  {
   "cell_type": "code",
   "execution_count": null,
   "metadata": {},
   "outputs": [],
   "source": []
  },
  {
   "cell_type": "code",
   "execution_count": null,
   "metadata": {},
   "outputs": [],
   "source": []
  },
  {
   "cell_type": "code",
   "execution_count": null,
   "metadata": {},
   "outputs": [],
   "source": []
  },
  {
   "cell_type": "code",
   "execution_count": null,
   "metadata": {},
   "outputs": [],
   "source": []
  },
  {
   "cell_type": "code",
   "execution_count": 96,
   "metadata": {},
   "outputs": [],
   "source": [
    "mnbGV = MultinomialNB()\n",
    "\n",
    "tvecGV = TfidfVectorizer(ngram_range = (1, 2), max_features = 50000)\n",
    "X_tfidf = tvecGV.fit_transform(X_train)\n"
   ]
  },
  {
   "cell_type": "code",
   "execution_count": 97,
   "metadata": {},
   "outputs": [
    {
     "data": {
      "text/plain": [
       "(80000, 50000)"
      ]
     },
     "execution_count": 97,
     "metadata": {},
     "output_type": "execute_result"
    }
   ],
   "source": [
    "X_tfidf.shape"
   ]
  },
  {
   "cell_type": "code",
   "execution_count": 112,
   "metadata": {},
   "outputs": [
    {
     "name": "stdout",
     "output_type": "stream",
     "text": [
      "scores: [0.78135   0.7816875 0.78145   0.7812875]\n",
      "scores_std [0.00353832 0.00354304 0.00358129 0.00377339]\n",
      "{'alpha': 2.1}\n",
      "Time Execution: 0.8598041959994589\n"
     ]
    }
   ],
   "source": [
    "#-----------------------------GRID SEARCH CROSS VALIDATION------------------------------\n",
    "from sklearn.model_selection import GridSearchCV\n",
    "\n",
    "# Timer begins\n",
    "start = timeit.default_timer()\n",
    "\n",
    "tuned_parameters = [{'alpha' : [2.05, 2.1, 2.15, 2.2]}]\n",
    "n_folds = 5\n",
    "\n",
    "grid_search = GridSearchCV(estimator = mnb, param_grid = tuned_parameters, cv = n_folds, refit = False, n_jobs = -1)\n",
    "\n",
    "grid_search.fit(X_tfidf, y)\n",
    "\n",
    "scores = grid_search.cv_results_['mean_test_score']\n",
    "scores_std = grid_search.cv_results_['std_test_score']\n",
    "print('scores:',scores)\n",
    "print('scores_std',scores_std)\n",
    "\n",
    "# Optimal hyperparameter\n",
    "bestAlpha = grid_search.best_params_['alpha']\n",
    "print(grid_search.best_params_)\n",
    "\n",
    "# Timer stops\n",
    "stop = timeit.default_timer()\n",
    "print(\"Time Execution: {}\".format(stop - start))\n",
    "# #-----------------------------END OF GRID SEARCH-----------------------------------------"
   ]
  },
  {
   "cell_type": "code",
   "execution_count": 113,
   "metadata": {},
   "outputs": [],
   "source": [
    "mnbFinal = MultinomialNB(alpha = 2.1)\n",
    "X_final = tvecGV.transform(X_test)"
   ]
  },
  {
   "cell_type": "code",
   "execution_count": 115,
   "metadata": {},
   "outputs": [
    {
     "data": {
      "text/plain": [
       "MultinomialNB(alpha=2.1, class_prior=None, fit_prior=True)"
      ]
     },
     "execution_count": 115,
     "metadata": {},
     "output_type": "execute_result"
    }
   ],
   "source": [
    "mnbFinal.fit(X_tfidf, y)"
   ]
  },
  {
   "cell_type": "code",
   "execution_count": 116,
   "metadata": {},
   "outputs": [],
   "source": [
    "y_pred = mnbFinal.predict(X_final)"
   ]
  },
  {
   "cell_type": "code",
   "execution_count": 117,
   "metadata": {},
   "outputs": [
    {
     "name": "stdout",
     "output_type": "stream",
     "text": [
      "0.7915\n"
     ]
    }
   ],
   "source": [
    "print(accuracy_score(y_pred, y_test))"
   ]
  },
  {
   "cell_type": "code",
   "execution_count": null,
   "metadata": {},
   "outputs": [],
   "source": []
  }
 ],
 "metadata": {
  "kernelspec": {
   "display_name": "Python 3",
   "language": "python",
   "name": "python3"
  },
  "language_info": {
   "codemirror_mode": {
    "name": "ipython",
    "version": 3
   },
   "file_extension": ".py",
   "mimetype": "text/x-python",
   "name": "python",
   "nbconvert_exporter": "python",
   "pygments_lexer": "ipython3",
   "version": "3.7.4"
  }
 },
 "nbformat": 4,
 "nbformat_minor": 2
}
